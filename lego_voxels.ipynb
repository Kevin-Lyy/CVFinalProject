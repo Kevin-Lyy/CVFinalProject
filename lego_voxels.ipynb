{
  "nbformat": 4,
  "nbformat_minor": 0,
  "metadata": {
    "colab": {
      "name": "lego_voxels.ipynb",
      "provenance": [],
      "collapsed_sections": [
        "KQM_AIKYsVNl"
      ],
      "include_colab_link": true
    },
    "kernelspec": {
      "name": "python3",
      "display_name": "Python 3"
    },
    "language_info": {
      "name": "python"
    },
    "widgets": {
      "application/vnd.jupyter.widget-state+json": {
        "8407e382b9e046bcb9a36eb7f0435df4": {
          "model_module": "@jupyter-widgets/controls",
          "model_name": "FloatSliderModel",
          "model_module_version": "1.5.0",
          "state": {
            "_dom_classes": [],
            "_model_module": "@jupyter-widgets/controls",
            "_model_module_version": "1.5.0",
            "_model_name": "FloatSliderModel",
            "_view_count": null,
            "_view_module": "@jupyter-widgets/controls",
            "_view_module_version": "1.5.0",
            "_view_name": "FloatSliderView",
            "continuous_update": true,
            "description": "",
            "description_tooltip": null,
            "disabled": false,
            "layout": "IPY_MODEL_33c78cbcce1e48b7881ee7b5c62ad4c2",
            "max": 51,
            "min": 0,
            "orientation": "horizontal",
            "readout": true,
            "readout_format": ".2f",
            "step": 0.051,
            "style": "IPY_MODEL_86cde7e63d5c4d40bfcf5936c244ad45",
            "value": 5.1
          }
        },
        "1852d250aa944cd7899270b738d03946": {
          "model_module": "jupyter-threejs",
          "model_name": "PointsMaterialModel",
          "model_module_version": "^2.1.0",
          "state": {
            "_model_module": "jupyter-threejs",
            "_model_module_version": "^2.1.0",
            "_model_name": "PointsMaterialModel",
            "_view_count": null,
            "_view_module": null,
            "_view_module_version": "",
            "_view_name": null,
            "alphaTest": 0,
            "blendDst": "OneMinusSrcAlphaFactor",
            "blendDstAlpha": 0,
            "blendEquation": "AddEquation",
            "blendEquationAlpha": 0,
            "blendSrc": "SrcAlphaFactor",
            "blendSrcAlpha": 0,
            "blending": "NormalBlending",
            "clipIntersection": false,
            "clipShadows": false,
            "clippingPlanes": [],
            "color": "#ffffff",
            "colorWrite": true,
            "defines": null,
            "depthFunc": "LessEqualDepth",
            "depthTest": true,
            "depthWrite": true,
            "dithering": false,
            "flatShading": false,
            "fog": true,
            "lights": false,
            "map": null,
            "morphTargets": false,
            "name": "",
            "opacity": 1,
            "overdraw": 0,
            "polygonOffset": false,
            "polygonOffsetFactor": 0,
            "polygonOffsetUnits": 0,
            "precision": null,
            "premultipliedAlpha": false,
            "shadowSide": null,
            "side": "FrontSide",
            "size": 1,
            "sizeAttenuation": true,
            "transparent": false,
            "type": "PointsMaterial",
            "vertexColors": "VertexColors",
            "visible": true
          }
        },
        "33c78cbcce1e48b7881ee7b5c62ad4c2": {
          "model_module": "@jupyter-widgets/base",
          "model_name": "LayoutModel",
          "model_module_version": "1.2.0",
          "state": {
            "_model_module": "@jupyter-widgets/base",
            "_model_module_version": "1.2.0",
            "_model_name": "LayoutModel",
            "_view_count": null,
            "_view_module": "@jupyter-widgets/base",
            "_view_module_version": "1.2.0",
            "_view_name": "LayoutView",
            "align_content": null,
            "align_items": null,
            "align_self": null,
            "border": null,
            "bottom": null,
            "display": null,
            "flex": null,
            "flex_flow": null,
            "grid_area": null,
            "grid_auto_columns": null,
            "grid_auto_flow": null,
            "grid_auto_rows": null,
            "grid_column": null,
            "grid_gap": null,
            "grid_row": null,
            "grid_template_areas": null,
            "grid_template_columns": null,
            "grid_template_rows": null,
            "height": null,
            "justify_content": null,
            "justify_items": null,
            "left": null,
            "margin": null,
            "max_height": null,
            "max_width": null,
            "min_height": null,
            "min_width": null,
            "object_fit": null,
            "object_position": null,
            "order": null,
            "overflow": null,
            "overflow_x": null,
            "overflow_y": null,
            "padding": null,
            "right": null,
            "top": null,
            "visibility": null,
            "width": null
          }
        },
        "86cde7e63d5c4d40bfcf5936c244ad45": {
          "model_module": "@jupyter-widgets/controls",
          "model_name": "SliderStyleModel",
          "model_module_version": "1.5.0",
          "state": {
            "_model_module": "@jupyter-widgets/controls",
            "_model_module_version": "1.5.0",
            "_model_name": "SliderStyleModel",
            "_view_count": null,
            "_view_module": "@jupyter-widgets/base",
            "_view_module_version": "1.2.0",
            "_view_name": "StyleView",
            "description_width": "",
            "handle_color": null
          }
        },
        "b22990a071f4443ab50e8fedda8e9244": {
          "model_module": "jupyter-threejs",
          "model_name": "RendererModel",
          "model_module_version": "^2.1.0",
          "state": {
            "_alpha": false,
            "_antialias": false,
            "_dom_classes": [],
            "_height": 500,
            "_model_module": "jupyter-threejs",
            "_model_module_version": "^2.1.0",
            "_model_name": "RendererModel",
            "_pause_autorender": false,
            "_view_count": null,
            "_view_module": "jupyter-threejs",
            "_view_module_version": "^2.1.0",
            "_view_name": "RendererView",
            "_webgl_version": 2,
            "_width": 800,
            "autoClear": true,
            "autoClearColor": true,
            "autoClearDepth": true,
            "autoClearStencil": true,
            "background": "black",
            "background_opacity": 1,
            "camera": "IPY_MODEL_c61f3b5b4fdb41a987ae3a6bf101b4ed",
            "clearColor": "#000000",
            "clearOpacity": 1,
            "clippingPlanes": [],
            "controls": [
              "IPY_MODEL_38f4618379524f298ec5a58ad5266ad1"
            ],
            "gammaFactor": 2,
            "gammaInput": false,
            "gammaOutput": false,
            "layout": "IPY_MODEL_520cfdc71728469d93d72243c8d08383",
            "localClippingEnabled": false,
            "maxMorphNormals": 4,
            "maxMorphTargets": 8,
            "physicallyCorrectLights": false,
            "scene": "IPY_MODEL_b7f80b563cdd4d78bf92a9a8f365baaf",
            "shadowMap": "IPY_MODEL_356407c103294db3a5cdbddcf75aaae9",
            "sortObject": true,
            "toneMapping": "LinearToneMapping",
            "toneMappingExposure": 1,
            "toneMappingWhitePoint": 1
          }
        },
        "c61f3b5b4fdb41a987ae3a6bf101b4ed": {
          "model_module": "jupyter-threejs",
          "model_name": "PerspectiveCameraModel",
          "model_module_version": "^2.1.0",
          "state": {
            "_model_module": "jupyter-threejs",
            "_model_module_version": "^2.1.0",
            "_model_name": "PerspectiveCameraModel",
            "_view_count": null,
            "_view_module": null,
            "_view_module_version": "",
            "_view_name": null,
            "aspect": 1.6,
            "castShadow": false,
            "children": [],
            "far": 2000,
            "focus": 10,
            "fov": 90,
            "frustumCulled": true,
            "matrix": [
              1,
              0,
              0,
              0,
              0,
              1,
              0,
              0,
              0,
              0,
              1,
              0,
              31.572239170225746,
              84.55143380109823,
              111.10536912751678,
              1
            ],
            "matrixAutoUpdate": true,
            "matrixWorld": [
              1,
              0,
              0,
              0,
              0,
              1,
              0,
              0,
              0,
              0,
              1,
              0,
              0,
              0,
              0,
              1
            ],
            "matrixWorldInverse": [
              1,
              0,
              0,
              0,
              0,
              1,
              0,
              0,
              0,
              0,
              1,
              0,
              0,
              0,
              0,
              1
            ],
            "matrixWorldNeedsUpdate": false,
            "modelViewMatrix": [
              1,
              0,
              0,
              0,
              0,
              1,
              0,
              0,
              0,
              0,
              1,
              0,
              0,
              0,
              0,
              1
            ],
            "name": "",
            "near": 0.1,
            "normalMatrix": [
              1,
              0,
              0,
              0,
              1,
              0,
              0,
              0,
              1
            ],
            "position": [
              31.572239170225746,
              84.55143380109823,
              111.10536912751678
            ],
            "projectionMatrix": [
              0.625,
              0,
              0,
              0,
              0,
              1.0000000000000002,
              0,
              0,
              0,
              0,
              -1.00010000500025,
              -1,
              0,
              0,
              -0.200010000500025,
              0
            ],
            "quaternion": [
              0,
              0,
              0,
              1
            ],
            "receiveShadow": false,
            "renderOrder": 0,
            "rotation": [
              0,
              0,
              0,
              "XYZ"
            ],
            "scale": [
              1,
              1,
              1
            ],
            "type": "PerspectiveCamera",
            "up": [
              0,
              0,
              1
            ],
            "visible": true,
            "zoom": 1
          }
        },
        "38f4618379524f298ec5a58ad5266ad1": {
          "model_module": "jupyter-threejs",
          "model_name": "OrbitControlsModel",
          "model_module_version": "^2.1.0",
          "state": {
            "_model_module": "jupyter-threejs",
            "_model_module_version": "^2.1.0",
            "_model_name": "OrbitControlsModel",
            "_view_count": null,
            "_view_module": null,
            "_view_module_version": "",
            "_view_name": null,
            "autoRotate": false,
            "autoRotateSpeed": 2,
            "controlling": "IPY_MODEL_c61f3b5b4fdb41a987ae3a6bf101b4ed",
            "dampingFactor": 0.25,
            "enableDamping": false,
            "enableKeys": true,
            "enablePan": true,
            "enableRotate": true,
            "enableZoom": true,
            "enabled": true,
            "keyPanSpeed": 7,
            "maxAzimuthAngle": "inf",
            "maxDistance": "inf",
            "maxPolarAngle": 3.141592653589793,
            "maxZoom": "inf",
            "minAzimuthAngle": "-inf",
            "minDistance": 0,
            "minPolarAngle": 0,
            "minZoom": 0,
            "panSpeed": 1,
            "rotateSpeed": 1,
            "screenSpacePanning": true,
            "target": [
              31.572239170225746,
              33.55143380109823,
              34.60536912751678
            ],
            "zoomSpeed": 1
          }
        },
        "520cfdc71728469d93d72243c8d08383": {
          "model_module": "@jupyter-widgets/base",
          "model_name": "LayoutModel",
          "model_module_version": "1.2.0",
          "state": {
            "_model_module": "@jupyter-widgets/base",
            "_model_module_version": "1.2.0",
            "_model_name": "LayoutModel",
            "_view_count": null,
            "_view_module": "@jupyter-widgets/base",
            "_view_module_version": "1.2.0",
            "_view_name": "LayoutView",
            "align_content": null,
            "align_items": null,
            "align_self": null,
            "border": null,
            "bottom": null,
            "display": null,
            "flex": null,
            "flex_flow": null,
            "grid_area": null,
            "grid_auto_columns": null,
            "grid_auto_flow": null,
            "grid_auto_rows": null,
            "grid_column": null,
            "grid_gap": null,
            "grid_row": null,
            "grid_template_areas": null,
            "grid_template_columns": null,
            "grid_template_rows": null,
            "height": null,
            "justify_content": null,
            "justify_items": null,
            "left": null,
            "margin": null,
            "max_height": null,
            "max_width": null,
            "min_height": null,
            "min_width": null,
            "object_fit": null,
            "object_position": null,
            "order": null,
            "overflow": null,
            "overflow_x": null,
            "overflow_y": null,
            "padding": null,
            "right": null,
            "top": null,
            "visibility": null,
            "width": null
          }
        },
        "b7f80b563cdd4d78bf92a9a8f365baaf": {
          "model_module": "jupyter-threejs",
          "model_name": "SceneModel",
          "model_module_version": "^2.1.0",
          "state": {
            "_model_module": "jupyter-threejs",
            "_model_module_version": "^2.1.0",
            "_model_name": "SceneModel",
            "_view_count": null,
            "_view_module": null,
            "_view_module_version": "",
            "_view_name": null,
            "autoUpdate": true,
            "background": "black",
            "castShadow": false,
            "children": [
              "IPY_MODEL_eedff90638bc43a6b1cc05ebe8d1f3a9",
              "IPY_MODEL_c61f3b5b4fdb41a987ae3a6bf101b4ed"
            ],
            "fog": null,
            "frustumCulled": true,
            "matrix": [
              1,
              0,
              0,
              0,
              0,
              1,
              0,
              0,
              0,
              0,
              1,
              0,
              0,
              0,
              0,
              1
            ],
            "matrixAutoUpdate": true,
            "matrixWorld": [
              1,
              0,
              0,
              0,
              0,
              1,
              0,
              0,
              0,
              0,
              1,
              0,
              0,
              0,
              0,
              1
            ],
            "matrixWorldNeedsUpdate": false,
            "modelViewMatrix": [
              1,
              0,
              0,
              0,
              0,
              1,
              0,
              0,
              0,
              0,
              1,
              0,
              0,
              0,
              0,
              1
            ],
            "name": "",
            "normalMatrix": [
              1,
              0,
              0,
              0,
              1,
              0,
              0,
              0,
              1
            ],
            "overrideMaterial": null,
            "position": [
              0,
              0,
              0
            ],
            "quaternion": [
              0,
              0,
              0,
              1
            ],
            "receiveShadow": false,
            "renderOrder": 0,
            "rotation": [
              0,
              0,
              0,
              "XYZ"
            ],
            "scale": [
              1,
              1,
              1
            ],
            "type": "Scene",
            "up": [
              0,
              1,
              0
            ],
            "visible": true
          }
        },
        "356407c103294db3a5cdbddcf75aaae9": {
          "model_module": "jupyter-threejs",
          "model_name": "WebGLShadowMapModel",
          "model_module_version": "^2.1.0",
          "state": {
            "_model_module": "jupyter-threejs",
            "_model_module_version": "^2.1.0",
            "_model_name": "WebGLShadowMapModel",
            "_view_count": null,
            "_view_module": null,
            "_view_module_version": "",
            "_view_name": null,
            "enabled": false,
            "type": "PCFShadowMap"
          }
        },
        "eedff90638bc43a6b1cc05ebe8d1f3a9": {
          "model_module": "jupyter-threejs",
          "model_name": "PointsModel",
          "model_module_version": "^2.1.0",
          "state": {
            "_model_module": "jupyter-threejs",
            "_model_module_version": "^2.1.0",
            "_model_name": "PointsModel",
            "_view_count": null,
            "_view_module": null,
            "_view_module_version": "",
            "_view_name": null,
            "castShadow": false,
            "children": [],
            "frustumCulled": true,
            "geometry": "IPY_MODEL_9f650da172dd4110afc4ea4aa13fe01b",
            "material": "IPY_MODEL_1852d250aa944cd7899270b738d03946",
            "matrix": [
              1,
              0,
              0,
              0,
              0,
              1,
              0,
              0,
              0,
              0,
              1,
              0,
              0,
              0,
              0,
              1
            ],
            "matrixAutoUpdate": true,
            "matrixWorld": [
              1,
              0,
              0,
              0,
              0,
              1,
              0,
              0,
              0,
              0,
              1,
              0,
              0,
              0,
              0,
              1
            ],
            "matrixWorldNeedsUpdate": false,
            "modelViewMatrix": [
              1,
              0,
              0,
              0,
              0,
              1,
              0,
              0,
              0,
              0,
              1,
              0,
              0,
              0,
              0,
              1
            ],
            "name": "",
            "normalMatrix": [
              1,
              0,
              0,
              0,
              1,
              0,
              0,
              0,
              1
            ],
            "position": [
              0,
              0,
              0
            ],
            "quaternion": [
              0,
              0,
              0,
              1
            ],
            "receiveShadow": false,
            "renderOrder": 0,
            "rotation": [
              0,
              0,
              0,
              "XYZ"
            ],
            "scale": [
              1,
              1,
              1
            ],
            "type": "Points",
            "up": [
              0,
              1,
              0
            ],
            "visible": true
          }
        },
        "9f650da172dd4110afc4ea4aa13fe01b": {
          "model_module": "jupyter-threejs",
          "model_name": "BufferGeometryModel",
          "model_module_version": "^2.1.0",
          "state": {
            "MaxIndex": 65535,
            "_model_module": "jupyter-threejs",
            "_model_module_version": "^2.1.0",
            "_model_name": "BufferGeometryModel",
            "_ref_geometry": null,
            "_store_ref": false,
            "_view_count": null,
            "_view_module": null,
            "_view_module_version": "",
            "_view_name": null,
            "attributes": {
              "position": "IPY_MODEL_50b490c087a145f489eb1c480c87868a",
              "color": "IPY_MODEL_c0289b739ce6484c94754fcd9f0a1528"
            },
            "index": null,
            "morphAttributes": {},
            "name": "",
            "type": "BufferGeometry",
            "userData": {}
          }
        },
        "50b490c087a145f489eb1c480c87868a": {
          "model_module": "jupyter-threejs",
          "model_name": "BufferAttributeModel",
          "model_module_version": "^2.1.0",
          "state": {
            "_model_module": "jupyter-threejs",
            "_model_module_version": "^2.1.0",
            "_model_name": "BufferAttributeModel",
            "_view_count": null,
            "_view_module": null,
            "_view_module_version": "",
            "_view_name": null,
            "array": {
              "shape": [
                16390,
                3
              ],
              "dtype": "float32"
            },
            "dynamic": false,
            "needsUpdate": false,
            "normalized": false,
            "version": 1
          }
        },
        "c0289b739ce6484c94754fcd9f0a1528": {
          "model_module": "jupyter-threejs",
          "model_name": "BufferAttributeModel",
          "model_module_version": "^2.1.0",
          "state": {
            "_model_module": "jupyter-threejs",
            "_model_module_version": "^2.1.0",
            "_model_name": "BufferAttributeModel",
            "_view_count": null,
            "_view_module": null,
            "_view_module_version": "",
            "_view_name": null,
            "array": {
              "shape": [
                16390,
                3
              ],
              "dtype": "uint8"
            },
            "dynamic": false,
            "needsUpdate": false,
            "normalized": true,
            "version": 1
          }
        },
        "443cfede254c49069639e2102e2a8d40": {
          "model_module": "@jupyter-widgets/base",
          "model_name": "LayoutModel",
          "model_module_version": "1.2.0",
          "state": {
            "_model_module": "@jupyter-widgets/base",
            "_model_module_version": "1.2.0",
            "_model_name": "LayoutModel",
            "_view_count": null,
            "_view_module": "@jupyter-widgets/base",
            "_view_module_version": "1.2.0",
            "_view_name": "LayoutView",
            "align_content": null,
            "align_items": null,
            "align_self": null,
            "border": null,
            "bottom": null,
            "display": null,
            "flex": null,
            "flex_flow": null,
            "grid_area": null,
            "grid_auto_columns": null,
            "grid_auto_flow": null,
            "grid_auto_rows": null,
            "grid_column": null,
            "grid_gap": null,
            "grid_row": null,
            "grid_template_areas": null,
            "grid_template_columns": null,
            "grid_template_rows": null,
            "height": null,
            "justify_content": null,
            "justify_items": null,
            "left": null,
            "margin": null,
            "max_height": null,
            "max_width": null,
            "min_height": null,
            "min_width": null,
            "object_fit": null,
            "object_position": null,
            "order": null,
            "overflow": null,
            "overflow_x": null,
            "overflow_y": null,
            "padding": null,
            "right": null,
            "top": null,
            "visibility": null,
            "width": null
          }
        },
        "c143df3dfbff48d28b85807f7192b31f": {
          "model_module": "@jupyter-widgets/controls",
          "model_name": "DescriptionStyleModel",
          "model_module_version": "1.5.0",
          "state": {
            "_model_module": "@jupyter-widgets/controls",
            "_model_module_version": "1.5.0",
            "_model_name": "DescriptionStyleModel",
            "_view_count": null,
            "_view_module": "@jupyter-widgets/base",
            "_view_module_version": "1.2.0",
            "_view_name": "StyleView",
            "description_width": ""
          }
        },
        "0be4e36c094a44b9a8b70e1762658f7c": {
          "model_module": "@jupyter-widgets/controls",
          "model_name": "ColorPickerModel",
          "model_module_version": "1.5.0",
          "state": {
            "_dom_classes": [],
            "_model_module": "@jupyter-widgets/controls",
            "_model_module_version": "1.5.0",
            "_model_name": "ColorPickerModel",
            "_view_count": null,
            "_view_module": "@jupyter-widgets/controls",
            "_view_module_version": "1.5.0",
            "_view_name": "ColorPickerView",
            "concise": false,
            "description": "",
            "description_tooltip": null,
            "disabled": false,
            "layout": "IPY_MODEL_443cfede254c49069639e2102e2a8d40",
            "style": "IPY_MODEL_c143df3dfbff48d28b85807f7192b31f",
            "value": "black"
          }
        },
        "29e66f0263d9482b95bd7a52fb973ddb": {
          "model_module": "@jupyter-widgets/base",
          "model_name": "LayoutModel",
          "model_module_version": "1.2.0",
          "state": {
            "_model_module": "@jupyter-widgets/base",
            "_model_module_version": "1.2.0",
            "_model_name": "LayoutModel",
            "_view_count": null,
            "_view_module": "@jupyter-widgets/base",
            "_view_module_version": "1.2.0",
            "_view_name": "LayoutView",
            "align_content": null,
            "align_items": null,
            "align_self": null,
            "border": null,
            "bottom": null,
            "display": null,
            "flex": null,
            "flex_flow": null,
            "grid_area": null,
            "grid_auto_columns": null,
            "grid_auto_flow": null,
            "grid_auto_rows": null,
            "grid_column": null,
            "grid_gap": null,
            "grid_row": null,
            "grid_template_areas": null,
            "grid_template_columns": null,
            "grid_template_rows": null,
            "height": null,
            "justify_content": null,
            "justify_items": null,
            "left": null,
            "margin": null,
            "max_height": null,
            "max_width": null,
            "min_height": null,
            "min_width": null,
            "object_fit": null,
            "object_position": null,
            "order": null,
            "overflow": null,
            "overflow_x": null,
            "overflow_y": null,
            "padding": null,
            "right": null,
            "top": null,
            "visibility": null,
            "width": null
          }
        },
        "06749eead1b94e65a7edda60f34f8a57": {
          "model_module": "@jupyter-widgets/controls",
          "model_name": "DescriptionStyleModel",
          "model_module_version": "1.5.0",
          "state": {
            "_model_module": "@jupyter-widgets/controls",
            "_model_module_version": "1.5.0",
            "_model_name": "DescriptionStyleModel",
            "_view_count": null,
            "_view_module": "@jupyter-widgets/base",
            "_view_module_version": "1.2.0",
            "_view_name": "StyleView",
            "description_width": ""
          }
        },
        "5e0e61d4e3684501aa03d707489ab382": {
          "model_module": "@jupyter-widgets/controls",
          "model_name": "LabelModel",
          "model_module_version": "1.5.0",
          "state": {
            "_dom_classes": [],
            "_model_module": "@jupyter-widgets/controls",
            "_model_module_version": "1.5.0",
            "_model_name": "LabelModel",
            "_view_count": null,
            "_view_module": "@jupyter-widgets/controls",
            "_view_module_version": "1.5.0",
            "_view_name": "LabelView",
            "description": "",
            "description_tooltip": null,
            "layout": "IPY_MODEL_c7ceac820a074cb98d778ef823e4d60e",
            "placeholder": "​",
            "style": "IPY_MODEL_5666aacb86a14fec8ad1f793c6d40dac",
            "value": "Point size:"
          }
        },
        "23ed04f6221b4c0fb70d9c7283967d21": {
          "model_module": "@jupyter-widgets/controls",
          "model_name": "LabelModel",
          "model_module_version": "1.5.0",
          "state": {
            "_dom_classes": [],
            "_model_module": "@jupyter-widgets/controls",
            "_model_module_version": "1.5.0",
            "_model_name": "LabelModel",
            "_view_count": null,
            "_view_module": "@jupyter-widgets/controls",
            "_view_module_version": "1.5.0",
            "_view_name": "LabelView",
            "description": "",
            "description_tooltip": null,
            "layout": "IPY_MODEL_29e66f0263d9482b95bd7a52fb973ddb",
            "placeholder": "​",
            "style": "IPY_MODEL_06749eead1b94e65a7edda60f34f8a57",
            "value": "Background color:"
          }
        },
        "ef941cc3492c44f2b4889e1e65cca656": {
          "model_module": "@jupyter-widgets/base",
          "model_name": "LayoutModel",
          "model_module_version": "1.2.0",
          "state": {
            "_model_module": "@jupyter-widgets/base",
            "_model_module_version": "1.2.0",
            "_model_name": "LayoutModel",
            "_view_count": null,
            "_view_module": "@jupyter-widgets/base",
            "_view_module_version": "1.2.0",
            "_view_name": "LayoutView",
            "align_content": null,
            "align_items": null,
            "align_self": null,
            "border": null,
            "bottom": null,
            "display": null,
            "flex": null,
            "flex_flow": null,
            "grid_area": null,
            "grid_auto_columns": null,
            "grid_auto_flow": null,
            "grid_auto_rows": null,
            "grid_column": null,
            "grid_gap": null,
            "grid_row": null,
            "grid_template_areas": null,
            "grid_template_columns": null,
            "grid_template_rows": null,
            "height": null,
            "justify_content": null,
            "justify_items": null,
            "left": null,
            "margin": null,
            "max_height": null,
            "max_width": null,
            "min_height": null,
            "min_width": null,
            "object_fit": null,
            "object_position": null,
            "order": null,
            "overflow": null,
            "overflow_x": null,
            "overflow_y": null,
            "padding": null,
            "right": null,
            "top": null,
            "visibility": null,
            "width": null
          }
        },
        "24e70635744f42cdbec7b461f9eb939d": {
          "model_module": "@jupyter-widgets/controls",
          "model_name": "HBoxModel",
          "model_module_version": "1.5.0",
          "state": {
            "_dom_classes": [],
            "_model_module": "@jupyter-widgets/controls",
            "_model_module_version": "1.5.0",
            "_model_name": "HBoxModel",
            "_view_count": null,
            "_view_module": "@jupyter-widgets/controls",
            "_view_module_version": "1.5.0",
            "_view_name": "HBoxView",
            "box_style": "",
            "children": [
              "IPY_MODEL_5e0e61d4e3684501aa03d707489ab382",
              "IPY_MODEL_8407e382b9e046bcb9a36eb7f0435df4",
              "IPY_MODEL_23ed04f6221b4c0fb70d9c7283967d21",
              "IPY_MODEL_0be4e36c094a44b9a8b70e1762658f7c"
            ],
            "layout": "IPY_MODEL_ef941cc3492c44f2b4889e1e65cca656"
          }
        },
        "c7ceac820a074cb98d778ef823e4d60e": {
          "model_module": "@jupyter-widgets/base",
          "model_name": "LayoutModel",
          "model_module_version": "1.2.0",
          "state": {
            "_model_module": "@jupyter-widgets/base",
            "_model_module_version": "1.2.0",
            "_model_name": "LayoutModel",
            "_view_count": null,
            "_view_module": "@jupyter-widgets/base",
            "_view_module_version": "1.2.0",
            "_view_name": "LayoutView",
            "align_content": null,
            "align_items": null,
            "align_self": null,
            "border": null,
            "bottom": null,
            "display": null,
            "flex": null,
            "flex_flow": null,
            "grid_area": null,
            "grid_auto_columns": null,
            "grid_auto_flow": null,
            "grid_auto_rows": null,
            "grid_column": null,
            "grid_gap": null,
            "grid_row": null,
            "grid_template_areas": null,
            "grid_template_columns": null,
            "grid_template_rows": null,
            "height": null,
            "justify_content": null,
            "justify_items": null,
            "left": null,
            "margin": null,
            "max_height": null,
            "max_width": null,
            "min_height": null,
            "min_width": null,
            "object_fit": null,
            "object_position": null,
            "order": null,
            "overflow": null,
            "overflow_x": null,
            "overflow_y": null,
            "padding": null,
            "right": null,
            "top": null,
            "visibility": null,
            "width": null
          }
        },
        "5666aacb86a14fec8ad1f793c6d40dac": {
          "model_module": "@jupyter-widgets/controls",
          "model_name": "DescriptionStyleModel",
          "model_module_version": "1.5.0",
          "state": {
            "_model_module": "@jupyter-widgets/controls",
            "_model_module_version": "1.5.0",
            "_model_name": "DescriptionStyleModel",
            "_view_count": null,
            "_view_module": "@jupyter-widgets/base",
            "_view_module_version": "1.2.0",
            "_view_name": "StyleView",
            "description_width": ""
          }
        }
      }
    }
  },
  "cells": [
    {
      "cell_type": "markdown",
      "metadata": {
        "id": "view-in-github",
        "colab_type": "text"
      },
      "source": [
        "<a href=\"https://colab.research.google.com/github/Kevin-Lyy/CVFinalProject/blob/master/lego_voxels.ipynb\" target=\"_parent\"><img src=\"https://colab.research.google.com/assets/colab-badge.svg\" alt=\"Open In Colab\"/></a>"
      ]
    },
    {
      "cell_type": "markdown",
      "source": [
        "# README \n",
        "\n",
        "Our data is from the [Amsterdam Library of Object Images (ALOI)](https://aloi.science.uva.nl/)\n",
        "\n",
        "To choose an object go to:  \n",
        "`ALOI Collection` > `Object Images` > `[img]` and click on any image \n",
        "\n",
        "<br>\n",
        "\n",
        "## Run Instructions\n",
        "\n",
        "1. Run the pip installs  (cell below **Installs**)\n",
        "2. Restart the runtime so the installs work correctly - you *will* get errors otherwise \n",
        "3. Run all cells \n",
        "4. Modify **`lego_image`** and **`lego_image_deg`** (cell below **Run**) as instructed, then run all cells below those cells to see results\n",
        "> If the visualization does not work immediately, clear the output and rerun it :) "
      ],
      "metadata": {
        "id": "NjGdBUQJ83AC"
      }
    },
    {
      "cell_type": "markdown",
      "source": [
        "## Installs \n",
        "\n",
        "Run the cell below to install required libraries, then restart the runtime so everything works correcty :) "
      ],
      "metadata": {
        "id": "8ahPfoad2BTz"
      }
    },
    {
      "cell_type": "code",
      "source": [
        "!pip install scikit-image\n",
        "!pip install open3d\n",
        "!pip install pyntcloud\n",
        "!pip install pythreejs"
      ],
      "metadata": {
        "colab": {
          "base_uri": "https://localhost:8080/"
        },
        "id": "nEdwNXTmRfbe",
        "outputId": "e1cbc2b7-67d7-4707-f94f-69cf91ff966f"
      },
      "execution_count": 1,
      "outputs": [
        {
          "output_type": "stream",
          "name": "stdout",
          "text": [
            "Requirement already satisfied: scikit-image in /usr/local/lib/python3.7/dist-packages (0.18.3)\n",
            "Requirement already satisfied: networkx>=2.0 in /usr/local/lib/python3.7/dist-packages (from scikit-image) (2.6.3)\n",
            "Requirement already satisfied: scipy>=1.0.1 in /usr/local/lib/python3.7/dist-packages (from scikit-image) (1.4.1)\n",
            "Requirement already satisfied: PyWavelets>=1.1.1 in /usr/local/lib/python3.7/dist-packages (from scikit-image) (1.3.0)\n",
            "Requirement already satisfied: matplotlib!=3.0.0,>=2.0.0 in /usr/local/lib/python3.7/dist-packages (from scikit-image) (3.2.2)\n",
            "Requirement already satisfied: imageio>=2.3.0 in /usr/local/lib/python3.7/dist-packages (from scikit-image) (2.4.1)\n",
            "Requirement already satisfied: pillow!=7.1.0,!=7.1.1,>=4.3.0 in /usr/local/lib/python3.7/dist-packages (from scikit-image) (9.1.1)\n",
            "Requirement already satisfied: tifffile>=2019.7.26 in /usr/local/lib/python3.7/dist-packages (from scikit-image) (2021.11.2)\n",
            "Requirement already satisfied: numpy>=1.16.5 in /usr/local/lib/python3.7/dist-packages (from scikit-image) (1.21.6)\n",
            "Requirement already satisfied: python-dateutil>=2.1 in /usr/local/lib/python3.7/dist-packages (from matplotlib!=3.0.0,>=2.0.0->scikit-image) (2.8.2)\n",
            "Requirement already satisfied: kiwisolver>=1.0.1 in /usr/local/lib/python3.7/dist-packages (from matplotlib!=3.0.0,>=2.0.0->scikit-image) (1.4.2)\n",
            "Requirement already satisfied: cycler>=0.10 in /usr/local/lib/python3.7/dist-packages (from matplotlib!=3.0.0,>=2.0.0->scikit-image) (0.11.0)\n",
            "Requirement already satisfied: pyparsing!=2.0.4,!=2.1.2,!=2.1.6,>=2.0.1 in /usr/local/lib/python3.7/dist-packages (from matplotlib!=3.0.0,>=2.0.0->scikit-image) (3.0.9)\n",
            "Requirement already satisfied: typing-extensions in /usr/local/lib/python3.7/dist-packages (from kiwisolver>=1.0.1->matplotlib!=3.0.0,>=2.0.0->scikit-image) (4.2.0)\n",
            "Requirement already satisfied: six>=1.5 in /usr/local/lib/python3.7/dist-packages (from python-dateutil>=2.1->matplotlib!=3.0.0,>=2.0.0->scikit-image) (1.15.0)\n",
            "Requirement already satisfied: open3d in /usr/local/lib/python3.7/dist-packages (0.15.2)\n",
            "Requirement already satisfied: jupyterlab==3.*,>=3.0.0 in /usr/local/lib/python3.7/dist-packages (from open3d) (3.4.2)\n",
            "Requirement already satisfied: addict in /usr/local/lib/python3.7/dist-packages (from open3d) (2.4.0)\n",
            "Requirement already satisfied: numpy>1.15 in /usr/local/lib/python3.7/dist-packages (from open3d) (1.21.6)\n",
            "Requirement already satisfied: wheel>=0.36.0 in /usr/local/lib/python3.7/dist-packages (from open3d) (0.37.1)\n",
            "Requirement already satisfied: matplotlib>=3 in /usr/local/lib/python3.7/dist-packages (from open3d) (3.2.2)\n",
            "Requirement already satisfied: pillow>=8.2.0 in /usr/local/lib/python3.7/dist-packages (from open3d) (9.1.1)\n",
            "Requirement already satisfied: scikit-learn>=0.21 in /usr/local/lib/python3.7/dist-packages (from open3d) (1.0.2)\n",
            "Requirement already satisfied: setuptools>=40.8.0 in /usr/local/lib/python3.7/dist-packages (from open3d) (62.3.2)\n",
            "Requirement already satisfied: pyquaternion in /usr/local/lib/python3.7/dist-packages (from open3d) (0.9.9)\n",
            "Requirement already satisfied: pygments>=2.7.4 in /usr/local/lib/python3.7/dist-packages (from open3d) (2.12.0)\n",
            "Requirement already satisfied: pandas>=1.0 in /usr/local/lib/python3.7/dist-packages (from open3d) (1.3.5)\n",
            "Requirement already satisfied: jupyter-packaging~=0.10 in /usr/local/lib/python3.7/dist-packages (from open3d) (0.12.0)\n",
            "Requirement already satisfied: pyyaml>=5.4.1 in /usr/local/lib/python3.7/dist-packages (from open3d) (6.0)\n",
            "Requirement already satisfied: ipywidgets>=7.6.0 in /usr/local/lib/python3.7/dist-packages (from open3d) (7.7.0)\n",
            "Requirement already satisfied: tqdm in /usr/local/lib/python3.7/dist-packages (from open3d) (4.64.0)\n",
            "Requirement already satisfied: ipython in /usr/local/lib/python3.7/dist-packages (from jupyterlab==3.*,>=3.0.0->open3d) (5.5.0)\n",
            "Requirement already satisfied: jupyter-server~=1.16 in /usr/local/lib/python3.7/dist-packages (from jupyterlab==3.*,>=3.0.0->open3d) (1.17.0)\n",
            "Requirement already satisfied: tornado>=6.1.0 in /usr/local/lib/python3.7/dist-packages (from jupyterlab==3.*,>=3.0.0->open3d) (6.1)\n",
            "Requirement already satisfied: packaging in /usr/local/lib/python3.7/dist-packages (from jupyterlab==3.*,>=3.0.0->open3d) (21.3)\n",
            "Requirement already satisfied: nbclassic~=0.2 in /usr/local/lib/python3.7/dist-packages (from jupyterlab==3.*,>=3.0.0->open3d) (0.3.7)\n",
            "Requirement already satisfied: jupyterlab-server~=2.10 in /usr/local/lib/python3.7/dist-packages (from jupyterlab==3.*,>=3.0.0->open3d) (2.14.0)\n",
            "Requirement already satisfied: jinja2>=2.1 in /usr/local/lib/python3.7/dist-packages (from jupyterlab==3.*,>=3.0.0->open3d) (3.1.2)\n",
            "Requirement already satisfied: jupyter-core in /usr/local/lib/python3.7/dist-packages (from jupyterlab==3.*,>=3.0.0->open3d) (4.10.0)\n",
            "Requirement already satisfied: ipython-genutils~=0.2.0 in /usr/local/lib/python3.7/dist-packages (from ipywidgets>=7.6.0->open3d) (0.2.0)\n",
            "Requirement already satisfied: ipykernel>=4.5.1 in /usr/local/lib/python3.7/dist-packages (from ipywidgets>=7.6.0->open3d) (4.10.1)\n",
            "Requirement already satisfied: widgetsnbextension~=3.6.0 in /usr/local/lib/python3.7/dist-packages (from ipywidgets>=7.6.0->open3d) (3.6.0)\n",
            "Requirement already satisfied: nbformat>=4.2.0 in /usr/local/lib/python3.7/dist-packages (from ipywidgets>=7.6.0->open3d) (5.4.0)\n",
            "Requirement already satisfied: jupyterlab-widgets>=1.0.0 in /usr/local/lib/python3.7/dist-packages (from ipywidgets>=7.6.0->open3d) (1.1.0)\n",
            "Requirement already satisfied: traitlets>=4.3.1 in /usr/local/lib/python3.7/dist-packages (from ipywidgets>=7.6.0->open3d) (5.1.1)\n",
            "Requirement already satisfied: jupyter-client in /usr/local/lib/python3.7/dist-packages (from ipykernel>=4.5.1->ipywidgets>=7.6.0->open3d) (7.3.1)\n",
            "Requirement already satisfied: pickleshare in /usr/local/lib/python3.7/dist-packages (from ipython->jupyterlab==3.*,>=3.0.0->open3d) (0.7.5)\n",
            "Requirement already satisfied: pexpect in /usr/local/lib/python3.7/dist-packages (from ipython->jupyterlab==3.*,>=3.0.0->open3d) (4.8.0)\n",
            "Requirement already satisfied: prompt-toolkit<2.0.0,>=1.0.4 in /usr/local/lib/python3.7/dist-packages (from ipython->jupyterlab==3.*,>=3.0.0->open3d) (1.0.18)\n",
            "Requirement already satisfied: simplegeneric>0.8 in /usr/local/lib/python3.7/dist-packages (from ipython->jupyterlab==3.*,>=3.0.0->open3d) (0.8.1)\n",
            "Requirement already satisfied: decorator in /usr/local/lib/python3.7/dist-packages (from ipython->jupyterlab==3.*,>=3.0.0->open3d) (4.4.2)\n",
            "Requirement already satisfied: MarkupSafe>=2.0 in /usr/local/lib/python3.7/dist-packages (from jinja2>=2.1->jupyterlab==3.*,>=3.0.0->open3d) (2.0.1)\n",
            "Requirement already satisfied: tomlkit in /usr/local/lib/python3.7/dist-packages (from jupyter-packaging~=0.10->open3d) (0.10.2)\n",
            "Requirement already satisfied: deprecation in /usr/local/lib/python3.7/dist-packages (from jupyter-packaging~=0.10->open3d) (2.1.0)\n",
            "Requirement already satisfied: pyzmq>=17 in /usr/local/lib/python3.7/dist-packages (from jupyter-server~=1.16->jupyterlab==3.*,>=3.0.0->open3d) (22.3.0)\n",
            "Requirement already satisfied: terminado>=0.8.3 in /usr/local/lib/python3.7/dist-packages (from jupyter-server~=1.16->jupyterlab==3.*,>=3.0.0->open3d) (0.13.3)\n",
            "Requirement already satisfied: nbconvert>=6.4.4 in /usr/local/lib/python3.7/dist-packages (from jupyter-server~=1.16->jupyterlab==3.*,>=3.0.0->open3d) (6.5.0)\n",
            "Requirement already satisfied: prometheus-client in /usr/local/lib/python3.7/dist-packages (from jupyter-server~=1.16->jupyterlab==3.*,>=3.0.0->open3d) (0.14.1)\n",
            "Requirement already satisfied: websocket-client in /usr/local/lib/python3.7/dist-packages (from jupyter-server~=1.16->jupyterlab==3.*,>=3.0.0->open3d) (1.3.2)\n",
            "Requirement already satisfied: argon2-cffi in /usr/local/lib/python3.7/dist-packages (from jupyter-server~=1.16->jupyterlab==3.*,>=3.0.0->open3d) (21.3.0)\n",
            "Requirement already satisfied: Send2Trash in /usr/local/lib/python3.7/dist-packages (from jupyter-server~=1.16->jupyterlab==3.*,>=3.0.0->open3d) (1.8.0)\n",
            "Requirement already satisfied: anyio<4,>=3.1.0 in /usr/local/lib/python3.7/dist-packages (from jupyter-server~=1.16->jupyterlab==3.*,>=3.0.0->open3d) (3.6.1)\n",
            "Requirement already satisfied: sniffio>=1.1 in /usr/local/lib/python3.7/dist-packages (from anyio<4,>=3.1.0->jupyter-server~=1.16->jupyterlab==3.*,>=3.0.0->open3d) (1.2.0)\n",
            "Requirement already satisfied: typing-extensions in /usr/local/lib/python3.7/dist-packages (from anyio<4,>=3.1.0->jupyter-server~=1.16->jupyterlab==3.*,>=3.0.0->open3d) (4.2.0)\n",
            "Requirement already satisfied: idna>=2.8 in /usr/local/lib/python3.7/dist-packages (from anyio<4,>=3.1.0->jupyter-server~=1.16->jupyterlab==3.*,>=3.0.0->open3d) (2.10)\n",
            "Requirement already satisfied: python-dateutil>=2.8.2 in /usr/local/lib/python3.7/dist-packages (from jupyter-client->ipykernel>=4.5.1->ipywidgets>=7.6.0->open3d) (2.8.2)\n",
            "Requirement already satisfied: entrypoints in /usr/local/lib/python3.7/dist-packages (from jupyter-client->ipykernel>=4.5.1->ipywidgets>=7.6.0->open3d) (0.4)\n",
            "Requirement already satisfied: nest-asyncio>=1.5.4 in /usr/local/lib/python3.7/dist-packages (from jupyter-client->ipykernel>=4.5.1->ipywidgets>=7.6.0->open3d) (1.5.5)\n",
            "Requirement already satisfied: importlib-metadata>=3.6 in /usr/local/lib/python3.7/dist-packages (from jupyterlab-server~=2.10->jupyterlab==3.*,>=3.0.0->open3d) (4.11.3)\n",
            "Requirement already satisfied: requests in /usr/local/lib/python3.7/dist-packages (from jupyterlab-server~=2.10->jupyterlab==3.*,>=3.0.0->open3d) (2.23.0)\n",
            "Requirement already satisfied: jsonschema>=3.0.1 in /usr/local/lib/python3.7/dist-packages (from jupyterlab-server~=2.10->jupyterlab==3.*,>=3.0.0->open3d) (4.3.3)\n",
            "Requirement already satisfied: json5 in /usr/local/lib/python3.7/dist-packages (from jupyterlab-server~=2.10->jupyterlab==3.*,>=3.0.0->open3d) (0.9.8)\n",
            "Requirement already satisfied: babel in /usr/local/lib/python3.7/dist-packages (from jupyterlab-server~=2.10->jupyterlab==3.*,>=3.0.0->open3d) (2.10.1)\n",
            "Requirement already satisfied: zipp>=0.5 in /usr/local/lib/python3.7/dist-packages (from importlib-metadata>=3.6->jupyterlab-server~=2.10->jupyterlab==3.*,>=3.0.0->open3d) (3.8.0)\n",
            "Requirement already satisfied: attrs>=17.4.0 in /usr/local/lib/python3.7/dist-packages (from jsonschema>=3.0.1->jupyterlab-server~=2.10->jupyterlab==3.*,>=3.0.0->open3d) (21.4.0)\n",
            "Requirement already satisfied: pyrsistent!=0.17.0,!=0.17.1,!=0.17.2,>=0.14.0 in /usr/local/lib/python3.7/dist-packages (from jsonschema>=3.0.1->jupyterlab-server~=2.10->jupyterlab==3.*,>=3.0.0->open3d) (0.18.1)\n",
            "Requirement already satisfied: importlib-resources>=1.4.0 in /usr/local/lib/python3.7/dist-packages (from jsonschema>=3.0.1->jupyterlab-server~=2.10->jupyterlab==3.*,>=3.0.0->open3d) (5.7.1)\n",
            "Requirement already satisfied: cycler>=0.10 in /usr/local/lib/python3.7/dist-packages (from matplotlib>=3->open3d) (0.11.0)\n",
            "Requirement already satisfied: pyparsing!=2.0.4,!=2.1.2,!=2.1.6,>=2.0.1 in /usr/local/lib/python3.7/dist-packages (from matplotlib>=3->open3d) (3.0.9)\n",
            "Requirement already satisfied: kiwisolver>=1.0.1 in /usr/local/lib/python3.7/dist-packages (from matplotlib>=3->open3d) (1.4.2)\n",
            "Requirement already satisfied: notebook<7 in /usr/local/lib/python3.7/dist-packages (from nbclassic~=0.2->jupyterlab==3.*,>=3.0.0->open3d) (5.3.1)\n",
            "Requirement already satisfied: notebook-shim>=0.1.0 in /usr/local/lib/python3.7/dist-packages (from nbclassic~=0.2->jupyterlab==3.*,>=3.0.0->open3d) (0.1.0)\n",
            "Requirement already satisfied: pandocfilters>=1.4.1 in /usr/local/lib/python3.7/dist-packages (from nbconvert>=6.4.4->jupyter-server~=1.16->jupyterlab==3.*,>=3.0.0->open3d) (1.5.0)\n",
            "Requirement already satisfied: tinycss2 in /usr/local/lib/python3.7/dist-packages (from nbconvert>=6.4.4->jupyter-server~=1.16->jupyterlab==3.*,>=3.0.0->open3d) (1.1.1)\n",
            "Requirement already satisfied: jupyterlab-pygments in /usr/local/lib/python3.7/dist-packages (from nbconvert>=6.4.4->jupyter-server~=1.16->jupyterlab==3.*,>=3.0.0->open3d) (0.2.2)\n",
            "Requirement already satisfied: nbclient>=0.5.0 in /usr/local/lib/python3.7/dist-packages (from nbconvert>=6.4.4->jupyter-server~=1.16->jupyterlab==3.*,>=3.0.0->open3d) (0.6.3)\n",
            "Requirement already satisfied: bleach in /usr/local/lib/python3.7/dist-packages (from nbconvert>=6.4.4->jupyter-server~=1.16->jupyterlab==3.*,>=3.0.0->open3d) (5.0.0)\n",
            "Requirement already satisfied: beautifulsoup4 in /usr/local/lib/python3.7/dist-packages (from nbconvert>=6.4.4->jupyter-server~=1.16->jupyterlab==3.*,>=3.0.0->open3d) (4.6.3)\n",
            "Requirement already satisfied: mistune<2,>=0.8.1 in /usr/local/lib/python3.7/dist-packages (from nbconvert>=6.4.4->jupyter-server~=1.16->jupyterlab==3.*,>=3.0.0->open3d) (0.8.4)\n",
            "Requirement already satisfied: defusedxml in /usr/local/lib/python3.7/dist-packages (from nbconvert>=6.4.4->jupyter-server~=1.16->jupyterlab==3.*,>=3.0.0->open3d) (0.7.1)\n",
            "Requirement already satisfied: fastjsonschema in /usr/local/lib/python3.7/dist-packages (from nbformat>=4.2.0->ipywidgets>=7.6.0->open3d) (2.15.3)\n",
            "Requirement already satisfied: pytz>=2017.3 in /usr/local/lib/python3.7/dist-packages (from pandas>=1.0->open3d) (2022.1)\n",
            "Requirement already satisfied: wcwidth in /usr/local/lib/python3.7/dist-packages (from prompt-toolkit<2.0.0,>=1.0.4->ipython->jupyterlab==3.*,>=3.0.0->open3d) (0.2.5)\n",
            "Requirement already satisfied: six>=1.9.0 in /usr/local/lib/python3.7/dist-packages (from prompt-toolkit<2.0.0,>=1.0.4->ipython->jupyterlab==3.*,>=3.0.0->open3d) (1.15.0)\n",
            "Requirement already satisfied: joblib>=0.11 in /usr/local/lib/python3.7/dist-packages (from scikit-learn>=0.21->open3d) (1.1.0)\n",
            "Requirement already satisfied: threadpoolctl>=2.0.0 in /usr/local/lib/python3.7/dist-packages (from scikit-learn>=0.21->open3d) (3.1.0)\n",
            "Requirement already satisfied: scipy>=1.1.0 in /usr/local/lib/python3.7/dist-packages (from scikit-learn>=0.21->open3d) (1.4.1)\n",
            "Requirement already satisfied: ptyprocess in /usr/local/lib/python3.7/dist-packages (from terminado>=0.8.3->jupyter-server~=1.16->jupyterlab==3.*,>=3.0.0->open3d) (0.7.0)\n",
            "Requirement already satisfied: argon2-cffi-bindings in /usr/local/lib/python3.7/dist-packages (from argon2-cffi->jupyter-server~=1.16->jupyterlab==3.*,>=3.0.0->open3d) (21.2.0)\n",
            "Requirement already satisfied: cffi>=1.0.1 in /usr/local/lib/python3.7/dist-packages (from argon2-cffi-bindings->argon2-cffi->jupyter-server~=1.16->jupyterlab==3.*,>=3.0.0->open3d) (1.15.0)\n",
            "Requirement already satisfied: pycparser in /usr/local/lib/python3.7/dist-packages (from cffi>=1.0.1->argon2-cffi-bindings->argon2-cffi->jupyter-server~=1.16->jupyterlab==3.*,>=3.0.0->open3d) (2.21)\n",
            "Requirement already satisfied: webencodings in /usr/local/lib/python3.7/dist-packages (from bleach->nbconvert>=6.4.4->jupyter-server~=1.16->jupyterlab==3.*,>=3.0.0->open3d) (0.5.1)\n",
            "Requirement already satisfied: chardet<4,>=3.0.2 in /usr/local/lib/python3.7/dist-packages (from requests->jupyterlab-server~=2.10->jupyterlab==3.*,>=3.0.0->open3d) (3.0.4)\n",
            "Requirement already satisfied: certifi>=2017.4.17 in /usr/local/lib/python3.7/dist-packages (from requests->jupyterlab-server~=2.10->jupyterlab==3.*,>=3.0.0->open3d) (2021.10.8)\n",
            "Requirement already satisfied: urllib3!=1.25.0,!=1.25.1,<1.26,>=1.21.1 in /usr/local/lib/python3.7/dist-packages (from requests->jupyterlab-server~=2.10->jupyterlab==3.*,>=3.0.0->open3d) (1.24.3)\n",
            "Requirement already satisfied: pyntcloud in /usr/local/lib/python3.7/dist-packages (0.2.0)\n",
            "Requirement already satisfied: pandas in /usr/local/lib/python3.7/dist-packages (from pyntcloud) (1.3.5)\n",
            "Requirement already satisfied: scipy in /usr/local/lib/python3.7/dist-packages (from pyntcloud) (1.4.1)\n",
            "Requirement already satisfied: numpy in /usr/local/lib/python3.7/dist-packages (from pyntcloud) (1.21.6)\n",
            "Requirement already satisfied: python-dateutil>=2.7.3 in /usr/local/lib/python3.7/dist-packages (from pandas->pyntcloud) (2.8.2)\n",
            "Requirement already satisfied: pytz>=2017.3 in /usr/local/lib/python3.7/dist-packages (from pandas->pyntcloud) (2022.1)\n",
            "Requirement already satisfied: six>=1.5 in /usr/local/lib/python3.7/dist-packages (from python-dateutil>=2.7.3->pandas->pyntcloud) (1.15.0)\n",
            "Requirement already satisfied: pythreejs in /usr/local/lib/python3.7/dist-packages (2.3.0)\n",
            "Requirement already satisfied: ipywidgets>=7.2.1 in /usr/local/lib/python3.7/dist-packages (from pythreejs) (7.7.0)\n",
            "Requirement already satisfied: numpy in /usr/local/lib/python3.7/dist-packages (from pythreejs) (1.21.6)\n",
            "Requirement already satisfied: ipydatawidgets>=1.1.1 in /usr/local/lib/python3.7/dist-packages (from pythreejs) (4.3.1.post1)\n",
            "Requirement already satisfied: six in /usr/local/lib/python3.7/dist-packages (from ipydatawidgets>=1.1.1->pythreejs) (1.15.0)\n",
            "Requirement already satisfied: traittypes>=0.2.0 in /usr/local/lib/python3.7/dist-packages (from ipydatawidgets>=1.1.1->pythreejs) (0.2.1)\n",
            "Requirement already satisfied: ipython>=4.0.0 in /usr/local/lib/python3.7/dist-packages (from ipywidgets>=7.2.1->pythreejs) (5.5.0)\n",
            "Requirement already satisfied: ipykernel>=4.5.1 in /usr/local/lib/python3.7/dist-packages (from ipywidgets>=7.2.1->pythreejs) (4.10.1)\n",
            "Requirement already satisfied: ipython-genutils~=0.2.0 in /usr/local/lib/python3.7/dist-packages (from ipywidgets>=7.2.1->pythreejs) (0.2.0)\n",
            "Requirement already satisfied: traitlets>=4.3.1 in /usr/local/lib/python3.7/dist-packages (from ipywidgets>=7.2.1->pythreejs) (5.1.1)\n",
            "Requirement already satisfied: nbformat>=4.2.0 in /usr/local/lib/python3.7/dist-packages (from ipywidgets>=7.2.1->pythreejs) (5.4.0)\n",
            "Requirement already satisfied: widgetsnbextension~=3.6.0 in /usr/local/lib/python3.7/dist-packages (from ipywidgets>=7.2.1->pythreejs) (3.6.0)\n",
            "Requirement already satisfied: jupyterlab-widgets>=1.0.0 in /usr/local/lib/python3.7/dist-packages (from ipywidgets>=7.2.1->pythreejs) (1.1.0)\n",
            "Requirement already satisfied: tornado>=4.0 in /usr/local/lib/python3.7/dist-packages (from ipykernel>=4.5.1->ipywidgets>=7.2.1->pythreejs) (6.1)\n",
            "Requirement already satisfied: jupyter-client in /usr/local/lib/python3.7/dist-packages (from ipykernel>=4.5.1->ipywidgets>=7.2.1->pythreejs) (7.3.1)\n",
            "Requirement already satisfied: simplegeneric>0.8 in /usr/local/lib/python3.7/dist-packages (from ipython>=4.0.0->ipywidgets>=7.2.1->pythreejs) (0.8.1)\n",
            "Requirement already satisfied: pickleshare in /usr/local/lib/python3.7/dist-packages (from ipython>=4.0.0->ipywidgets>=7.2.1->pythreejs) (0.7.5)\n",
            "Requirement already satisfied: prompt-toolkit<2.0.0,>=1.0.4 in /usr/local/lib/python3.7/dist-packages (from ipython>=4.0.0->ipywidgets>=7.2.1->pythreejs) (1.0.18)\n",
            "Requirement already satisfied: pygments in /usr/local/lib/python3.7/dist-packages (from ipython>=4.0.0->ipywidgets>=7.2.1->pythreejs) (2.12.0)\n",
            "Requirement already satisfied: setuptools>=18.5 in /usr/local/lib/python3.7/dist-packages (from ipython>=4.0.0->ipywidgets>=7.2.1->pythreejs) (62.3.2)\n",
            "Requirement already satisfied: pexpect in /usr/local/lib/python3.7/dist-packages (from ipython>=4.0.0->ipywidgets>=7.2.1->pythreejs) (4.8.0)\n",
            "Requirement already satisfied: decorator in /usr/local/lib/python3.7/dist-packages (from ipython>=4.0.0->ipywidgets>=7.2.1->pythreejs) (4.4.2)\n",
            "Requirement already satisfied: jupyter-core in /usr/local/lib/python3.7/dist-packages (from nbformat>=4.2.0->ipywidgets>=7.2.1->pythreejs) (4.10.0)\n",
            "Requirement already satisfied: fastjsonschema in /usr/local/lib/python3.7/dist-packages (from nbformat>=4.2.0->ipywidgets>=7.2.1->pythreejs) (2.15.3)\n",
            "Requirement already satisfied: jsonschema>=2.6 in /usr/local/lib/python3.7/dist-packages (from nbformat>=4.2.0->ipywidgets>=7.2.1->pythreejs) (4.3.3)\n",
            "Requirement already satisfied: importlib-resources>=1.4.0 in /usr/local/lib/python3.7/dist-packages (from jsonschema>=2.6->nbformat>=4.2.0->ipywidgets>=7.2.1->pythreejs) (5.7.1)\n",
            "Requirement already satisfied: pyrsistent!=0.17.0,!=0.17.1,!=0.17.2,>=0.14.0 in /usr/local/lib/python3.7/dist-packages (from jsonschema>=2.6->nbformat>=4.2.0->ipywidgets>=7.2.1->pythreejs) (0.18.1)\n",
            "Requirement already satisfied: importlib-metadata in /usr/local/lib/python3.7/dist-packages (from jsonschema>=2.6->nbformat>=4.2.0->ipywidgets>=7.2.1->pythreejs) (4.11.3)\n",
            "Requirement already satisfied: attrs>=17.4.0 in /usr/local/lib/python3.7/dist-packages (from jsonschema>=2.6->nbformat>=4.2.0->ipywidgets>=7.2.1->pythreejs) (21.4.0)\n",
            "Requirement already satisfied: typing-extensions in /usr/local/lib/python3.7/dist-packages (from jsonschema>=2.6->nbformat>=4.2.0->ipywidgets>=7.2.1->pythreejs) (4.2.0)\n",
            "Requirement already satisfied: zipp>=3.1.0 in /usr/local/lib/python3.7/dist-packages (from importlib-resources>=1.4.0->jsonschema>=2.6->nbformat>=4.2.0->ipywidgets>=7.2.1->pythreejs) (3.8.0)\n",
            "Requirement already satisfied: wcwidth in /usr/local/lib/python3.7/dist-packages (from prompt-toolkit<2.0.0,>=1.0.4->ipython>=4.0.0->ipywidgets>=7.2.1->pythreejs) (0.2.5)\n",
            "Requirement already satisfied: notebook>=4.4.1 in /usr/local/lib/python3.7/dist-packages (from widgetsnbextension~=3.6.0->ipywidgets>=7.2.1->pythreejs) (5.3.1)\n",
            "Requirement already satisfied: jinja2 in /usr/local/lib/python3.7/dist-packages (from notebook>=4.4.1->widgetsnbextension~=3.6.0->ipywidgets>=7.2.1->pythreejs) (3.1.2)\n",
            "Requirement already satisfied: Send2Trash in /usr/local/lib/python3.7/dist-packages (from notebook>=4.4.1->widgetsnbextension~=3.6.0->ipywidgets>=7.2.1->pythreejs) (1.8.0)\n",
            "Requirement already satisfied: nbconvert in /usr/local/lib/python3.7/dist-packages (from notebook>=4.4.1->widgetsnbextension~=3.6.0->ipywidgets>=7.2.1->pythreejs) (6.5.0)\n",
            "Requirement already satisfied: terminado>=0.8.1 in /usr/local/lib/python3.7/dist-packages (from notebook>=4.4.1->widgetsnbextension~=3.6.0->ipywidgets>=7.2.1->pythreejs) (0.13.3)\n",
            "Requirement already satisfied: pyzmq>=22.3 in /usr/local/lib/python3.7/dist-packages (from jupyter-client->ipykernel>=4.5.1->ipywidgets>=7.2.1->pythreejs) (22.3.0)\n",
            "Requirement already satisfied: python-dateutil>=2.8.2 in /usr/local/lib/python3.7/dist-packages (from jupyter-client->ipykernel>=4.5.1->ipywidgets>=7.2.1->pythreejs) (2.8.2)\n",
            "Requirement already satisfied: nest-asyncio>=1.5.4 in /usr/local/lib/python3.7/dist-packages (from jupyter-client->ipykernel>=4.5.1->ipywidgets>=7.2.1->pythreejs) (1.5.5)\n",
            "Requirement already satisfied: entrypoints in /usr/local/lib/python3.7/dist-packages (from jupyter-client->ipykernel>=4.5.1->ipywidgets>=7.2.1->pythreejs) (0.4)\n",
            "Requirement already satisfied: ptyprocess in /usr/local/lib/python3.7/dist-packages (from terminado>=0.8.1->notebook>=4.4.1->widgetsnbextension~=3.6.0->ipywidgets>=7.2.1->pythreejs) (0.7.0)\n",
            "Requirement already satisfied: MarkupSafe>=2.0 in /usr/local/lib/python3.7/dist-packages (from jinja2->notebook>=4.4.1->widgetsnbextension~=3.6.0->ipywidgets>=7.2.1->pythreejs) (2.0.1)\n",
            "Requirement already satisfied: tinycss2 in /usr/local/lib/python3.7/dist-packages (from nbconvert->notebook>=4.4.1->widgetsnbextension~=3.6.0->ipywidgets>=7.2.1->pythreejs) (1.1.1)\n",
            "Requirement already satisfied: defusedxml in /usr/local/lib/python3.7/dist-packages (from nbconvert->notebook>=4.4.1->widgetsnbextension~=3.6.0->ipywidgets>=7.2.1->pythreejs) (0.7.1)\n",
            "Requirement already satisfied: bleach in /usr/local/lib/python3.7/dist-packages (from nbconvert->notebook>=4.4.1->widgetsnbextension~=3.6.0->ipywidgets>=7.2.1->pythreejs) (5.0.0)\n",
            "Requirement already satisfied: packaging in /usr/local/lib/python3.7/dist-packages (from nbconvert->notebook>=4.4.1->widgetsnbextension~=3.6.0->ipywidgets>=7.2.1->pythreejs) (21.3)\n",
            "Requirement already satisfied: pandocfilters>=1.4.1 in /usr/local/lib/python3.7/dist-packages (from nbconvert->notebook>=4.4.1->widgetsnbextension~=3.6.0->ipywidgets>=7.2.1->pythreejs) (1.5.0)\n",
            "Requirement already satisfied: beautifulsoup4 in /usr/local/lib/python3.7/dist-packages (from nbconvert->notebook>=4.4.1->widgetsnbextension~=3.6.0->ipywidgets>=7.2.1->pythreejs) (4.6.3)\n",
            "Requirement already satisfied: jupyterlab-pygments in /usr/local/lib/python3.7/dist-packages (from nbconvert->notebook>=4.4.1->widgetsnbextension~=3.6.0->ipywidgets>=7.2.1->pythreejs) (0.2.2)\n",
            "Requirement already satisfied: mistune<2,>=0.8.1 in /usr/local/lib/python3.7/dist-packages (from nbconvert->notebook>=4.4.1->widgetsnbextension~=3.6.0->ipywidgets>=7.2.1->pythreejs) (0.8.4)\n",
            "Requirement already satisfied: nbclient>=0.5.0 in /usr/local/lib/python3.7/dist-packages (from nbconvert->notebook>=4.4.1->widgetsnbextension~=3.6.0->ipywidgets>=7.2.1->pythreejs) (0.6.3)\n",
            "Requirement already satisfied: webencodings in /usr/local/lib/python3.7/dist-packages (from bleach->nbconvert->notebook>=4.4.1->widgetsnbextension~=3.6.0->ipywidgets>=7.2.1->pythreejs) (0.5.1)\n",
            "Requirement already satisfied: pyparsing!=3.0.5,>=2.0.2 in /usr/local/lib/python3.7/dist-packages (from packaging->nbconvert->notebook>=4.4.1->widgetsnbextension~=3.6.0->ipywidgets>=7.2.1->pythreejs) (3.0.9)\n"
          ]
        }
      ]
    },
    {
      "cell_type": "markdown",
      "source": [
        "## Imports"
      ],
      "metadata": {
        "id": "lKYF5xQ5pGOg"
      }
    },
    {
      "cell_type": "code",
      "execution_count": 2,
      "metadata": {
        "id": "ZFvc2Rc_RQ9W"
      },
      "outputs": [],
      "source": [
        "import math\n",
        "import random \n",
        "import urllib.request\n",
        "import colorsys\n",
        "\n",
        "import numpy as np\n",
        "from scipy.spatial.distance import cdist\n",
        "from scipy.spatial.distance import euclidean\n",
        "\n",
        "from skimage.draw import line\n",
        "\n",
        "import cv2\n",
        "from google.colab.patches import cv2_imshow\n",
        "import imutils\n",
        "from PIL import Image\n",
        "\n",
        "\n",
        "import open3d as o3d\n",
        "from pyntcloud import PyntCloud"
      ]
    },
    {
      "cell_type": "code",
      "source": [
        "import matplotlib.pyplot as plt\n",
        "import plotly.graph_objects as go"
      ],
      "metadata": {
        "id": "iRQuKT-Ys-al"
      },
      "execution_count": 3,
      "outputs": []
    },
    {
      "cell_type": "code",
      "source": [
        "from google.colab import output\n",
        "output.enable_custom_widget_manager()"
      ],
      "metadata": {
        "id": "Hb0vGHZAURMA"
      },
      "execution_count": 4,
      "outputs": []
    },
    {
      "cell_type": "markdown",
      "source": [
        "# Setup"
      ],
      "metadata": {
        "id": "GQlFYj3brthr"
      }
    },
    {
      "cell_type": "code",
      "source": [
        "!wget https://raw.githubusercontent.com/Kevin-Lyy/CVFinalProject/master/lego_colors.txt "
      ],
      "metadata": {
        "colab": {
          "base_uri": "https://localhost:8080/"
        },
        "id": "iwr7_jJ5gwa6",
        "outputId": "c5350f71-fa85-45c8-ef7f-472308f3c221"
      },
      "execution_count": 5,
      "outputs": [
        {
          "output_type": "stream",
          "name": "stdout",
          "text": [
            "--2022-05-22 22:17:59--  https://raw.githubusercontent.com/Kevin-Lyy/CVFinalProject/master/lego_colors.txt\n",
            "Resolving raw.githubusercontent.com (raw.githubusercontent.com)... 185.199.109.133, 185.199.108.133, 185.199.110.133, ...\n",
            "Connecting to raw.githubusercontent.com (raw.githubusercontent.com)|185.199.109.133|:443... connected.\n",
            "HTTP request sent, awaiting response... 200 OK\n",
            "Length: 240 [text/plain]\n",
            "Saving to: ‘lego_colors.txt’\n",
            "\n",
            "\rlego_colors.txt       0%[                    ]       0  --.-KB/s               \rlego_colors.txt     100%[===================>]     240  --.-KB/s    in 0s      \n",
            "\n",
            "2022-05-22 22:17:59 (8.29 MB/s) - ‘lego_colors.txt’ saved [240/240]\n",
            "\n"
          ]
        }
      ]
    },
    {
      "cell_type": "markdown",
      "source": [
        "# util"
      ],
      "metadata": {
        "id": "582aV4hfpKrn"
      }
    },
    {
      "cell_type": "code",
      "source": [
        "def img_from_url (url):\n",
        "    url_response = urllib.request.urlopen(url)\n",
        "    return cv2.imdecode(np.array(bytearray(url_response.read()), dtype=np.uint8), -1)"
      ],
      "metadata": {
        "id": "uqvKhEbm61zb"
      },
      "execution_count": 6,
      "outputs": []
    },
    {
      "cell_type": "code",
      "source": [
        "def cv2_to_pil(img):\n",
        "    return Image.fromarray(cv2.cvtColor(img, cv2.COLOR_BGR2RGB))\n",
        "\n",
        "def pil_to_cv2(img):\n",
        "    return cv2.cvtColor(np.array(img), cv2.COLOR_RGB2BGR) "
      ],
      "metadata": {
        "id": "R7hYDDlowcH4"
      },
      "execution_count": 7,
      "outputs": []
    },
    {
      "cell_type": "markdown",
      "source": [
        "## color"
      ],
      "metadata": {
        "id": "2nda3eyd0NPd"
      }
    },
    {
      "cell_type": "code",
      "source": [
        "def hex_to_rgb(hex):\n",
        "    return tuple(int(hex[i:i+2], 16) for i in (0, 2, 4)) \n",
        "\n",
        "def rgb_to_hex(r, g, b):\n",
        "    return ('{:X}{:X}{:X}').format(r, g, b)\n",
        "\n",
        "def rgb_to_hsv(rgb):\n",
        "    return colorsys.rgb_to_hsv(*rgb)\n",
        "\n",
        "def hsv_to_rgb(hsv):\n",
        "    return colorsys.hsv_to_rgb(*hsv)"
      ],
      "metadata": {
        "id": "fTXGW_4OXYnG"
      },
      "execution_count": 8,
      "outputs": []
    },
    {
      "cell_type": "markdown",
      "source": [
        "## lego"
      ],
      "metadata": {
        "id": "R5oP2ZXm0LTT"
      }
    },
    {
      "cell_type": "code",
      "source": [
        "def get_lego_colors(file_path='lego_colors.txt', dct=False):\n",
        "    data = open(file_path,'r')\n",
        "    if dct: \n",
        "        return {hex_to_rgb(color.strip()): color.strip() for color in data.readlines()}\n",
        "    return [hex_to_rgb(color.strip()) for color in data.readlines()]\n",
        "\n",
        "lego_colors = get_lego_colors()\n",
        "lego_color_dict = get_lego_colors(dct=True)"
      ],
      "metadata": {
        "id": "BBVdQ2urJaQB"
      },
      "execution_count": 9,
      "outputs": []
    },
    {
      "cell_type": "code",
      "source": [
        "def recolor_lego(img, valid_colors=lego_colors, resize=False):\n",
        "    if not resize: \n",
        "        img = img.copy().astype('uint8')\n",
        "    else:\n",
        "        img = cv2.resize(img.astype('uint8'),(100,100))\n",
        "        \n",
        "    valid_colors = np.asarray(valid_colors)\n",
        "    out = valid_colors[cdist(img.reshape(-1,3),valid_colors).argmin(1)].reshape(img.shape)\n",
        "    # cv2_imshow(imutils.resize(out.astype('uint8'),width=300))\n",
        "    return out "
      ],
      "metadata": {
        "id": "J62xTV2YKvwb"
      },
      "execution_count": 10,
      "outputs": []
    },
    {
      "cell_type": "markdown",
      "source": [
        "## voxels"
      ],
      "metadata": {
        "id": "KQM_AIKYsVNl"
      }
    },
    {
      "cell_type": "code",
      "source": [
        "LEGO_VOXEL_WIDTH = 7.8\n",
        "LEGO_VOXEL_HEIGHT = 9.6\n",
        "LEGO_VOXEL_SCALE = LEGO_VOXEL_HEIGHT/LEGO_VOXEL_WIDTH"
      ],
      "metadata": {
        "id": "xy4PZMjqsUYv"
      },
      "execution_count": 11,
      "outputs": []
    },
    {
      "cell_type": "code",
      "source": [
        "'''\n",
        "calculates the line that goes through the center of the voxel box\n",
        "of length width of the image oriented at angle theta\n",
        "in the column, layer parameter space\n",
        "returns all the points on the line\n",
        "'''\n",
        "def image_line(image, theta):\n",
        "    width, height = image.size\n",
        "    rad = math.radians(theta)\n",
        "    cw = width/2\n",
        "    x1 = int(cw + cw*math.cos(rad))\n",
        "    y1 = int(cw + cw*math.sin(rad))\n",
        "    x2 = int(cw - cw*math.cos(rad))\n",
        "    y2 = int(cw - cw*math.sin(rad))\n",
        "    print(\"Image line for \", theta, \": \",x1,y1,x2,y2)\n",
        "    return ((x1,y1),(x2,y2))\n"
      ],
      "metadata": {
        "id": "UHWdTqm8sv9D"
      },
      "execution_count": 12,
      "outputs": []
    },
    {
      "cell_type": "code",
      "source": [
        "'''\n",
        "returns the image col corresponding to the point on the projected image line\n",
        "'''\n",
        "def image_line_to_col(image_line, c, l, width):\n",
        "    return c*width/len(image_line)\n"
      ],
      "metadata": {
        "id": "GBE50HRXsxU8"
      },
      "execution_count": 13,
      "outputs": []
    },
    {
      "cell_type": "code",
      "source": [
        "def projection_line(col, layer, image, theta):\n",
        "    width, height = image.size\n",
        "    rad = math.radians(theta)\n",
        "    coordinates = []\n",
        "    cos_value = math.cos(rad)\n",
        "    sin_value = math.sin(rad)\n",
        "    if(sin_value!=0):\n",
        "        # CASE1: x = 0\n",
        "        x = 0\n",
        "        y = int(-cos_value*(x-col)/sin_value + layer)\n",
        "        if(y >= 0 and y < width):\n",
        "            coordinates.append((x,y))\n",
        "        # CASE2: x = width -1\n",
        "        x = width -1\n",
        "        y = int(-cos_value*(x-col)/sin_value + layer)\n",
        "        if(y >= 0 and y < width):\n",
        "            coordinates.append((x,y))\n",
        "    if(cos_value!=0):\n",
        "        # CASE3: y = 0\n",
        "        y = 0\n",
        "        x = int(-(y-layer)*sin_value/cos_value + col)\n",
        "        if (x >= 0 and x < width):\n",
        "            coordinates.append((x,y))\n",
        "        # CASE4: y = width -1\n",
        "        y = width- 1\n",
        "        x = int(-(y-layer)*sin_value/cos_value + col)\n",
        "        if (x >= 0 and x < width):\n",
        "            coordinates.append((x,y))\n",
        "    coordinates = list(set(coordinates))\n",
        "    #print(\"Projection Line for \", col, \" \", layer, \": \", coordinates)\n",
        "    if len(coordinates) == 1:\n",
        "        return coordinates+coordinates\n",
        "    if len(coordinates) == 2:\n",
        "        return coordinates\n",
        "    if len(coordinates) == 3:\n",
        "        if (0,0) in coordinates:\n",
        "            coordinates.remove((0,0))\n",
        "            return coordinates\n",
        "        if (width-1,width-1) in coordinates:\n",
        "            coordinates.remove((width-1,width-1))\n",
        "            return coordinates\n",
        "        if (0,width-1) in coordinates:\n",
        "            coordinates.remove((0,width-1))\n",
        "            return coordinates\n",
        "        if (width-1,0) in coordinates:\n",
        "            coordinates.remove((width-1,0))\n",
        "            return coordinates\n",
        "    return []\n"
      ],
      "metadata": {
        "id": "0ig5DjqDs1NX"
      },
      "execution_count": 14,
      "outputs": []
    },
    {
      "cell_type": "code",
      "source": [
        "def line_intersection(lineA, lineB, width):\n",
        "    #print(lineA, lineB)\n",
        "    x1 = lineA[0][0]\n",
        "    y1 = lineA[0][1]\n",
        "    x2 = lineA[1][0]\n",
        "    y2 = lineA[1][1]\n",
        "    x3 = lineB[0][0]\n",
        "    y3 = lineB[0][1]\n",
        "    x4 = lineB[1][0]\n",
        "    y4 = lineB[1][1]\n",
        "    det = ( (x1-x2)*(y3-y4)-(y1-y2)*(x3-x4) )\n",
        "    if det == 0: return []\n",
        "    px= ( (x1*y2-y1*x2)*(x3-x4)-(x1-x2)*(x3*y4-y3*x4) ) / det\n",
        "    py= ( (x1*y2-y1*x2)*(y3-y4)-(y1-y2)*(x3*y4-y3*x4) ) / det\n",
        "    #if px > 0 and px < width and py > 0 and py < width:\n",
        "    return (int(px),int(py))\n"
      ],
      "metadata": {
        "id": "pX4y7egts2sJ"
      },
      "execution_count": 15,
      "outputs": []
    },
    {
      "cell_type": "code",
      "source": [
        "def delta_color(colorA, colorB):\n",
        "    R = colorA[0]-colorB[0]\n",
        "    G = colorA[1]-colorB[1]\n",
        "    B = colorA[2]-colorB[2]\n",
        "    return (R+G+B)/3\n"
      ],
      "metadata": {
        "id": "kxxGRSazs3Ci"
      },
      "execution_count": 16,
      "outputs": []
    },
    {
      "cell_type": "code",
      "source": [
        "def consistent(colors, threshold):\n",
        "    for i in range(len(colors)):\n",
        "        for j in range(i+1, len(colors)):\n",
        "            if delta_color(colors[i], colors[j]) > threshold:\n",
        "                return False\n",
        "    return True\n"
      ],
      "metadata": {
        "id": "usPIJE1fs5H_"
      },
      "execution_count": 17,
      "outputs": []
    },
    {
      "cell_type": "code",
      "source": [
        "def average_color(colors):\n",
        "    color = [0,0,0]\n",
        "    for i in range(len(colors)):\n",
        "        color[0] += colors[i][0]\n",
        "        color[1] += colors[i][1]\n",
        "        color[2] += colors[i][2]\n",
        "    color[0] = int(color[0]/len(colors))\n",
        "    color[1] = int(color[1]/len(colors))\n",
        "    color[2] = int(color[2]/len(colors))\n",
        "    return color\n"
      ],
      "metadata": {
        "id": "Oyyx5bx7s5n6"
      },
      "execution_count": 18,
      "outputs": []
    },
    {
      "cell_type": "code",
      "source": [
        "def rect_points(coordA, coordB):\n",
        "    points = [[coordA[0], i] for i in range(coordB[1],coordA[1])]\n",
        "    points += [[i, coordA[1]] for i in range(coordA[0],coordB[0])]\n",
        "    points += [[coordB[0], i] for i in range(coordA[1],coordB[1],-1)]\n",
        "    points += [[i, coordB[1]] for i in range(coordB[0],coordA[0],-1)]\n",
        "    return points\n",
        "\n"
      ],
      "metadata": {
        "id": "YFYzHrAas8Cn"
      },
      "execution_count": 19,
      "outputs": []
    },
    {
      "cell_type": "code",
      "source": [
        "def background_threshold(color, t):\n",
        "    return color[0] < t and color[1] < t and color[2] < t\n"
      ],
      "metadata": {
        "id": "KHdWHRLvs9i8"
      },
      "execution_count": 20,
      "outputs": []
    },
    {
      "cell_type": "code",
      "source": [
        "def obscured(pointc, pointl, row, theta, coordA, coordB, voxels):\n",
        "    endpoint = []\n",
        "    if theta < 45 or theta > 315:\n",
        "        if coordA[1] < pointl: endpoint = coordA\n",
        "        elif coordB[1] < pointl: endpoint = coordB\n",
        "    if theta < 135 and theta > 45:\n",
        "        if coordA[0] > pointc: endpoint = coordA\n",
        "        elif coordB[0] > pointc: endpoint = coordB\n",
        "    if theta < 225 and theta > 135:\n",
        "        if coordA[1] > pointl: endpoint = coordA\n",
        "        elif coordB[1] > pointl: endpoint = coordB\n",
        "    if theta < 315 and theta > 225:\n",
        "        if coordA[0] < pointc: endpoint = coordA\n",
        "        elif coordB[0] < pointc: endpoint = coordB\n",
        "    #print(pointc, pointl, row, theta, coordA, coordB, endpoint)\n",
        "    if endpoint == []:\n",
        "        return True\n",
        "    points = list(zip(*line(pointc,pointl,endpoint[0], endpoint[1])))\n",
        "    for i in range(1,len(points)):\n",
        "        if (voxels[points[i][1]][row][points[i][0]] != [0,0,0]).all():\n",
        "            return True\n",
        "    return False\n"
      ],
      "metadata": {
        "id": "dUuCXO_Ns-6M"
      },
      "execution_count": 21,
      "outputs": []
    },
    {
      "cell_type": "code",
      "source": [
        "def voxel_coloring(images, angles, threshold=30):\n",
        "    image_lines = [image_line(images[i], angles[i]) for i in range(len(images))]\n",
        "    num_images = len(images)\n",
        "    width, height = images[0].size\n",
        "    voxels = np.full([width, height, width, 3], 255)\n",
        "    cw = int((width-1)/2)\n",
        "    coordA = [0, width-1] #xz coordinates\n",
        "    coordB = [width-1, 0] #xz coordinates\n",
        "    #SHAPE CARVING\n",
        "    while(coordB[0]-coordA[0] > 1):\n",
        "        for row in range(height):\n",
        "            for p in rect_points(coordA, coordB):\n",
        "                for i in range(num_images):\n",
        "                    projected = projection_line(p[0],p[1], images[i], angles[i])\n",
        "                    projected_point = []\n",
        "                    if projected != []: projected_point = line_intersection(projected, image_lines[i], width)\n",
        "                    if len(projected_point) == 2:\n",
        "                        ac = int(euclidean(projected_point, image_lines[i][1]))\n",
        "                        if ac < width:\n",
        "                            adjusted_point = [ac, row]\n",
        "                            color = images[i].getpixel(tuple(adjusted_point))\n",
        "                            if background_threshold(color,40):\n",
        "                                voxels[p[1]][row][p[0]] = [0,0,0]\n",
        "                                break\n",
        "                    else:\n",
        "                        voxels[p[1]][row][p[0]] = [0,0,0]\n",
        "                        break\n",
        "                continue\n",
        "        #set next layer coords\n",
        "        coordA = [coordA[0]+1, coordA[1]-1]\n",
        "        coordB = [coordB[0]-1, coordB[1]+1]\n",
        "    \n",
        "    coordA = [0, width-1] #xz coordinates\n",
        "    coordB = [width-1, 0] #xz coordinates\n",
        "    #VOXEL COLORING\n",
        "    while(coordB[0]-coordA[0] > 1):\n",
        "        for row in range(height):\n",
        "            for p in rect_points(coordA, coordB):\n",
        "                #vp = (p[0], row, p[1]) #(x,y,z) or (col,row,layer)\n",
        "                coords = [] # store coordinates of point projected on images\n",
        "                colors = [] # store colors of point projected on images\n",
        "                image_indexes = [] # store index of relevant images\n",
        "                if (voxels[p[1]][row][p[0]] != [0,0,0]).all():\n",
        "                    for i in range(num_images):\n",
        "                        projected = projection_line(p[0],p[1], images[i], angles[i])\n",
        "                        projected_point = []\n",
        "                        if projected != []:\n",
        "                            projected_point = line_intersection(projected, image_lines[i], width)\n",
        "                        #print(\"Projected Point: \", projected_point)\n",
        "                        # is voxel obscured?\n",
        "                        if not obscured(p[0], p[1], row, angles[i], projected[0], projected[1], voxels):\n",
        "                            if len(projected_point) == 2:\n",
        "                                ac = int(euclidean(projected_point, image_lines[i][1]))\n",
        "                                if ac < width:\n",
        "                                    adjusted_point = [ac, row]\n",
        "                                    #print(\"Adjusted Point: \", adjusted_point)\n",
        "                                    color = images[i].getpixel(tuple(adjusted_point))\n",
        "                                    if color != (0,0,0):\n",
        "                                        colors.append(color)\n",
        "                                        image_indexes.append(i)\n",
        "                                        coords.append(adjusted_point)\n",
        "                    #print(colors)\n",
        "                    #if (len(colors) > 0 and consistent(colors, threshold)) or len(colors) == 1:\n",
        "                    if len(colors) > 0:\n",
        "                        color = average_color(colors)\n",
        "                        #if color != [0,0,0]:\n",
        "                        voxels[p[1]][row][p[0]] = color\n",
        "                            #voxels.append([p[0], row, p[1], color[0], color[1], color[2]])\n",
        "                        for i in range(len(image_indexes)):\n",
        "                            images[image_indexes[i]].putpixel(coords[i], (0,0,0))\n",
        "                    #if color != [0,0,0]: print(colors, end=\" \")\n",
        "        #set next layer coords\n",
        "        coordA = [coordA[0]+1, coordA[1]-1]\n",
        "        coordB = [coordB[0]-1, coordB[1]+1]\n",
        "    return voxels\n"
      ],
      "metadata": {
        "id": "lpLLcnFttBMD"
      },
      "execution_count": 22,
      "outputs": []
    },
    {
      "cell_type": "code",
      "source": [
        "def reconstruction_size(image, max_height):\n",
        "    im_width, im_height = image.size\n",
        "    image = image.resize((im_width,int(im_height//LEGO_VOXEL_SCALE)), Image.Resampling.BILINEAR)\n",
        "    new_im_height = int(max_height//LEGO_VOXEL_HEIGHT)\n",
        "    scale = new_im_height/im_height\n",
        "    new_im_width = int(im_width*scale)\n",
        "    return new_im_width, new_im_height\n"
      ],
      "metadata": {
        "id": "yS0z4ZX2tC6K"
      },
      "execution_count": 23,
      "outputs": []
    },
    {
      "cell_type": "code",
      "source": [
        "def build_images(voxels):\n",
        "    voxels = np.swapaxes(voxels, 0, 1)\n",
        "    scaled_width = len(voxels)*5\n",
        "    for i in range(len(voxels)):\n",
        "        Image.fromarray(voxels[i].astype('uint8'), 'RGB').resize((scaled_width, scaled_width), Image.Resampling.BILINEAR).save(str(i)+\"layer_build.png\")\n"
      ],
      "metadata": {
        "id": "vp4mAba-tEOi"
      },
      "execution_count": 24,
      "outputs": []
    },
    {
      "cell_type": "code",
      "source": [
        "def driver(images, angles):\n",
        "    images = [cv2_to_pil(i) for i in images]\n",
        "    scaled_width, scaled_height = reconstruction_size(images[0], 500)\n",
        "    images = [i.resize((scaled_width, scaled_height), Image.Resampling.BILINEAR) for i in images]\n",
        "\n",
        "    #INSERT IMAGE RECOLOR\n",
        "    voxels = voxel_coloring(images, angles)\n",
        "    points = []\n",
        "    for layer in range(len(voxels)):\n",
        "        for row in range(len(voxels[layer])):\n",
        "            for col in range(len(voxels[layer][row])):\n",
        "                color = voxels[layer][row][col]\n",
        "                R = color[0]/255\n",
        "                G = color[1]/255\n",
        "                B = color[2]/255\n",
        "                points.append([col, row, layer, R,G,B])\n",
        "                #voxels[layer][row][col] = [color[2],color[1],color[0]]\n",
        "                \n",
        "    points = np.array(points)\n",
        "    build_images(voxels)\n",
        "    np.save(\"voxels_500\", voxels)\n",
        "    np.save(\"points_500\", points)\n"
      ],
      "metadata": {
        "id": "aQiYIZzlujP-"
      },
      "execution_count": 25,
      "outputs": []
    },
    {
      "cell_type": "markdown",
      "source": [
        "## 3d "
      ],
      "metadata": {
        "id": "sFtifTUS0EJx"
      }
    },
    {
      "cell_type": "code",
      "source": [
        "def visible_axes(b=True):\n",
        "    return {'xaxis': {'visible': b}, 'yaxis': {'visible': b}, 'zaxis': {'visible': b}, 'aspectmode':'data',}\n",
        "\n",
        "    margin=dict(l=0, r=0, b=0, t=0)"
      ],
      "metadata": {
        "id": "bIUMP_Zh0HOS"
      },
      "execution_count": 26,
      "outputs": []
    },
    {
      "cell_type": "code",
      "source": [
        "def draw_geometries(geometries):\n",
        "    graph_objects = []\n",
        "    view_axes=True\n",
        "\n",
        "    for geometry in geometries:\n",
        "        geometry_type = geometry.get_geometry_type()\n",
        "        \n",
        "        if geometry_type == o3d.geometry.Geometry.Type.PointCloud:\n",
        "            points = np.asarray(geometry.points)\n",
        "            colors = None\n",
        "            if geometry.has_colors():\n",
        "                colors = np.asarray(geometry.colors)\n",
        "            elif geometry.has_normals():\n",
        "                colors = (0.5, 0.5, 0.5) + np.asarray(geometry.normals) * 0.5\n",
        "            else:\n",
        "                geometry.paint_uniform_color((1.0, 0.0, 0.0))\n",
        "                colors = np.asarray(geometry.colors)\n",
        "\n",
        "            scatter_3d = go.Scatter3d(x=points[:,0], y=points[:,1], z=points[:,2], \n",
        "                                      mode='markers', marker=dict(size=1, color=colors))\n",
        "            graph_objects.append(scatter_3d)\n",
        "\n",
        "        if geometry_type == o3d.geometry.Geometry.Type.TriangleMesh:\n",
        "            triangles = np.asarray(geometry.triangles)\n",
        "            vertices = np.asarray(geometry.vertices)\n",
        "            colors = None\n",
        "            if geometry.has_vertex_colors():\n",
        "                colors = np.asarray(geometry.vertex_colors)\n",
        "            elif geometry.has_triangle_normals():\n",
        "                colors = (0.5, 0.5, 0.5) + np.asarray(geometry.triangle_normals) * 0.5\n",
        "                colors = tuple(map(tuple, colors))\n",
        "            else:\n",
        "                colors = (1.0, 0.0, 0.0)\n",
        "            \n",
        "            mesh_3d = go.Mesh3d(x=vertices[:,0], y=vertices[:,1], z=vertices[:,2], \n",
        "                                i=triangles[:,0], j=triangles[:,1], k=triangles[:,2], \n",
        "                                facecolor=colors, opacity=1)\n",
        "            graph_objects.append(mesh_3d)\n",
        "        \n",
        "    fig = go.Figure(\n",
        "        data=graph_objects,\n",
        "        layout=dict(scene=visible_axes(view_axes))\n",
        "    )\n",
        "    fig.update_layout(margin=dict(l=0, r=0, b=0, t=0))\n",
        "    fig.show()\n",
        "\n",
        "o3d.visualization.draw_geometries = draw_geometries # replace function"
      ],
      "metadata": {
        "id": "UMfkNSjCkaxu"
      },
      "execution_count": 27,
      "outputs": []
    },
    {
      "cell_type": "code",
      "source": [
        "def img_unique_colors(img):\n",
        "    for color in np.unique(img.reshape(-1, img.shape[-1]),axis=0):\n",
        "        print(f\"{color}\\t{len(list(zip(*np.where(np.all(img == color, axis=-1)))))}\")\n",
        "        cv2_imshow(np.full((100, 100, 3), (color)))"
      ],
      "metadata": {
        "id": "1O_8YQi6E67D"
      },
      "execution_count": 28,
      "outputs": []
    },
    {
      "cell_type": "markdown",
      "source": [
        "# images"
      ],
      "metadata": {
        "id": "viic2Euq0IdS"
      }
    },
    {
      "cell_type": "code",
      "source": [
        "png4_rot60 = []\n",
        "png4_rot60_lego = []\n",
        "\n",
        "for deg in range(12):\n",
        "    img_url = f\"https://aloi.science.uva.nl/www-images/62/62_r{deg*30}.jpg\"\n",
        "    print(f\"{deg*30}\\t{img_url}\")\n",
        "    png4_rot60.append(img_from_url(img_url))\n",
        "    cv2_imshow(png4_rot60[-1])\n",
        "    png4_rot60_lego.append(recolor_lego(png4_rot60[-1].copy()))\n",
        "    cv2_imshow(png4_rot60_lego[-1])\n",
        "    print(\"\\n\\n\")"
      ],
      "metadata": {
        "colab": {
          "base_uri": "https://localhost:8080/",
          "height": 1000
        },
        "id": "fSiZZWKg6iaj",
        "outputId": "3d9bbdac-33c8-4bdf-c654-4657f76de71b"
      },
      "execution_count": 29,
      "outputs": [
        {
          "output_type": "stream",
          "name": "stdout",
          "text": [
            "0\thttps://aloi.science.uva.nl/www-images/62/62_r0.jpg\n"
          ]
        },
        {
          "output_type": "display_data",
          "data": {
            "text/plain": [
              "<PIL.Image.Image image mode=RGB size=154x115>"
            ],
            "image/png": "[encoded data removed]"
          },
          "metadata": {}
        },
        {
          "output_type": "display_data",
          "data": {
            "text/plain": [
              "<PIL.Image.Image image mode=RGB size=154x115>"
            ],
            "image/png": "[encoded data removed]"
          },
          "metadata": {}
        },
        {
          "output_type": "stream",
          "name": "stdout",
          "text": [
            "\n",
            "\n",
            "\n",
            "30\thttps://aloi.science.uva.nl/www-images/62/62_r30.jpg\n"
          ]
        },
        {
          "output_type": "display_data",
          "data": {
            "text/plain": [
              "<PIL.Image.Image image mode=RGB size=154x115>"
            ],
            "image/png": "[encoded data removed]"
          },
          "metadata": {}
        },
        {
          "output_type": "display_data",
          "data": {
            "text/plain": [
              "<PIL.Image.Image image mode=RGB size=154x115>"
            ],
            "image/png": "[encoded data removed]"
          },
          "metadata": {}
        },
        {
          "output_type": "stream",
          "name": "stdout",
          "text": [
            "\n",
            "\n",
            "\n",
            "60\thttps://aloi.science.uva.nl/www-images/62/62_r60.jpg\n"
          ]
        },
        {
          "output_type": "display_data",
          "data": {
            "text/plain": [
              "<PIL.Image.Image image mode=RGB size=154x115>"
            ],
            "image/png": "[encoded data removed]"
          },
          "metadata": {}
        },
        {
          "output_type": "display_data",
          "data": {
            "text/plain": [
              "<PIL.Image.Image image mode=RGB size=154x115>"
            ],
            "image/png": "[encoded data removed]"
          },
          "metadata": {}
        },
        {
          "output_type": "stream",
          "name": "stdout",
          "text": [
            "\n",
            "\n",
            "\n",
            "90\thttps://aloi.science.uva.nl/www-images/62/62_r90.jpg\n"
          ]
        },
        {
          "output_type": "display_data",
          "data": {
            "text/plain": [
              "<PIL.Image.Image image mode=RGB size=154x115>"
            ],
            "image/png": "[encoded data removed]"
          },
          "metadata": {}
        },
        {
          "output_type": "display_data",
          "data": {
            "text/plain": [
              "<PIL.Image.Image image mode=RGB size=154x115>"
            ],
            "image/png": "[encoded data removed]"
          },
          "metadata": {}
        },
        {
          "output_type": "stream",
          "name": "stdout",
          "text": [
            "\n",
            "\n",
            "\n",
            "120\thttps://aloi.science.uva.nl/www-images/62/62_r120.jpg\n"
          ]
        },
        {
          "output_type": "display_data",
          "data": {
            "text/plain": [
              "<PIL.Image.Image image mode=RGB size=154x115>"
            ],
            "image/png": "[encoded data removed]"
          },
          "metadata": {}
        },
        {
          "output_type": "display_data",
          "data": {
            "text/plain": [
              "<PIL.Image.Image image mode=RGB size=154x115>"
            ],
            "image/png": "[encoded data removed]"
          },
          "metadata": {}
        },
        {
          "output_type": "stream",
          "name": "stdout",
          "text": [
            "\n",
            "\n",
            "\n",
            "150\thttps://aloi.science.uva.nl/www-images/62/62_r150.jpg\n"
          ]
        },
        {
          "output_type": "display_data",
          "data": {
            "text/plain": [
              "<PIL.Image.Image image mode=RGB size=154x115>"
            ],
            "image/png": "[encoded data removed]"
          },
          "metadata": {}
        },
        {
          "output_type": "display_data",
          "data": {
            "text/plain": [
              "<PIL.Image.Image image mode=RGB size=154x115>"
            ],
            "image/png": "[encoded data removed]"
          },
          "metadata": {}
        },
        {
          "output_type": "stream",
          "name": "stdout",
          "text": [
            "\n",
            "\n",
            "\n",
            "180\thttps://aloi.science.uva.nl/www-images/62/62_r180.jpg\n"
          ]
        },
        {
          "output_type": "display_data",
          "data": {
            "text/plain": [
              "<PIL.Image.Image image mode=RGB size=154x115>"
            ],
            "image/png": "[encoded data removed]"
          },
          "metadata": {}
        },
        {
          "output_type": "display_data",
          "data": {
            "text/plain": [
              "<PIL.Image.Image image mode=RGB size=154x115>"
            ],
            "image/png": "[encoded data removed]"
          },
          "metadata": {}
        },
        {
          "output_type": "stream",
          "name": "stdout",
          "text": [
            "\n",
            "\n",
            "\n",
            "210\thttps://aloi.science.uva.nl/www-images/62/62_r210.jpg\n"
          ]
        },
        {
          "output_type": "display_data",
          "data": {
            "text/plain": [
              "<PIL.Image.Image image mode=RGB size=154x115>"
            ],
            "image/png": "[encoded data removed]"
          },
          "metadata": {}
        },
        {
          "output_type": "display_data",
          "data": {
            "text/plain": [
              "<PIL.Image.Image image mode=RGB size=154x115>"
            ],
            "image/png": "[encoded data removed]"
          },
          "metadata": {}
        },
        {
          "output_type": "stream",
          "name": "stdout",
          "text": [
            "\n",
            "\n",
            "\n",
            "240\thttps://aloi.science.uva.nl/www-images/62/62_r240.jpg\n"
          ]
        },
        {
          "output_type": "display_data",
          "data": {
            "text/plain": [
              "<PIL.Image.Image image mode=RGB size=154x115>"
            ],
            "image/png": "[encoded data removed]"
          },
          "metadata": {}
        },
        {
          "output_type": "display_data",
          "data": {
            "text/plain": [
              "<PIL.Image.Image image mode=RGB size=154x115>"
            ],
            "image/png": "[encoded data removed]"
          },
          "metadata": {}
        },
        {
          "output_type": "stream",
          "name": "stdout",
          "text": [
            "\n",
            "\n",
            "\n",
            "270\thttps://aloi.science.uva.nl/www-images/62/62_r270.jpg\n"
          ]
        },
        {
          "output_type": "display_data",
          "data": {
            "text/plain": [
              "<PIL.Image.Image image mode=RGB size=154x115>"
            ],
            "image/png": "[encoded data removed]"
          },
          "metadata": {}
        },
        {
          "output_type": "display_data",
          "data": {
            "text/plain": [
              "<PIL.Image.Image image mode=RGB size=154x115>"
            ],
            "image/png": "[encoded data removed]"
          },
          "metadata": {}
        },
        {
          "output_type": "stream",
          "name": "stdout",
          "text": [
            "\n",
            "\n",
            "\n",
            "300\thttps://aloi.science.uva.nl/www-images/62/62_r300.jpg\n"
          ]
        },
        {
          "output_type": "display_data",
          "data": {
            "text/plain": [
              "<PIL.Image.Image image mode=RGB size=154x115>"
            ],
            "image/png": "[encoded data removed]"
          },
          "metadata": {}
        },
        {
          "output_type": "display_data",
          "data": {
            "text/plain": [
              "<PIL.Image.Image image mode=RGB size=154x115>"
            ],
            "image/png": "[encoded data removed]"
          },
          "metadata": {}
        },
        {
          "output_type": "stream",
          "name": "stdout",
          "text": [
            "\n",
            "\n",
            "\n",
            "330\thttps://aloi.science.uva.nl/www-images/62/62_r330.jpg\n"
          ]
        },
        {
          "output_type": "display_data",
          "data": {
            "text/plain": [
              "<PIL.Image.Image image mode=RGB size=154x115>"
            ],
            "image/png": "[encoded data removed]"
          },
          "metadata": {}
        },
        {
          "output_type": "display_data",
          "data": {
            "text/plain": [
              "<PIL.Image.Image image mode=RGB size=154x115>"
            ],
            "image/png": "[encoded data removed]"
          },
          "metadata": {}
        },
        {
          "output_type": "stream",
          "name": "stdout",
          "text": [
            "\n",
            "\n",
            "\n"
          ]
        }
      ]
    },
    {
      "cell_type": "markdown",
      "source": [
        "# Run\n",
        "\n",
        "\n",
        "## Modify the following variables as desired\n",
        "\n",
        "**`lego_image`** &nbsp; list of images (cv2/numpy array) \n",
        "\n",
        "**`lego_image_deg`** &nbsp; degrees of the corresponding images, used for calculations \n",
        "\n",
        "<br>\n",
        "\n",
        "\n",
        "#### Run Recommendations \n",
        "\n",
        "To select an object and find images:  \n",
        "\n",
        "[`ALOI Collection`](https://aloi.science.uva.nl/) > `Object Images` > `[img]` > `object orientations` \n",
        "\n",
        "Open any image in a new tab and copy the link to it  \n",
        "> ```python\n",
        "\"https://aloi.science.uva.nl/www-images/62/62_r0.jpg\"\n",
        "```\n",
        "\n",
        "\n",
        "Make it an f-string and replace the degree with `{deg*30}`  \n",
        "> ```python\n",
        "f\"https://aloi.science.uva.nl/www-images/62/62_r{deg*30}.jpg\"\n",
        "```\n",
        "\n",
        "If you want to use different degrees, the orientations on the site are **`[0,5,...,355]`**\n",
        "\n",
        "We are currently using 30º\n",
        "\n",
        "Modify `deg*30` with your desired degree and `range(12)` with the desired range\n",
        "\n",
        "Run all cells below it "
      ],
      "metadata": {
        "id": "tk3RllvJ68Hk"
      }
    },
    {
      "cell_type": "code",
      "source": [
        "lego_image = [img_from_url(f\"https://aloi.science.uva.nl/www-images/62/62_r{deg*30}.jpg\") for deg in range(12)]\n",
        "lego_image_deg = [deg*30 for deg in range(12)]\n",
        "\n",
        "for i in lego_image:\n",
        "    cv2_imshow(i)\n",
        "\n",
        "print(lego_image_deg)"
      ],
      "metadata": {
        "colab": {
          "base_uri": "https://localhost:8080/",
          "height": 1000
        },
        "id": "mqvd3ZwNvjKc",
        "outputId": "d5228636-6f97-4eac-8a9f-a0a2b5415353"
      },
      "execution_count": 34,
      "outputs": [
        {
          "output_type": "display_data",
          "data": {
            "text/plain": [
              "<PIL.Image.Image image mode=RGB size=154x115>"
            ],
            "image/png": "[encoded data removed]"
          },
          "metadata": {}
        },
        {
          "output_type": "display_data",
          "data": {
            "text/plain": [
              "<PIL.Image.Image image mode=RGB size=154x115>"
            ],
            "image/png": "[encoded data removed]"
          },
          "metadata": {}
        },
        {
          "output_type": "display_data",
          "data": {
            "text/plain": [
              "<PIL.Image.Image image mode=RGB size=154x115>"
            ],
            "image/png": "[encoded data removed]"
          },
          "metadata": {}
        },
        {
          "output_type": "display_data",
          "data": {
            "text/plain": [
              "<PIL.Image.Image image mode=RGB size=154x115>"
            ],
            "image/png": "[encoded data removed]"
          },
          "metadata": {}
        },
        {
          "output_type": "display_data",
          "data": {
            "text/plain": [
              "<PIL.Image.Image image mode=RGB size=154x115>"
            ],
            "image/png": "[encoded data removed]"
          },
          "metadata": {}
        },
        {
          "output_type": "display_data",
          "data": {
            "text/plain": [
              "<PIL.Image.Image image mode=RGB size=154x115>"
            ],
            "image/png": "[encoded data removed]"
          },
          "metadata": {}
        },
        {
          "output_type": "display_data",
          "data": {
            "text/plain": [
              "<PIL.Image.Image image mode=RGB size=154x115>"
            ],
            "image/png": "[encoded data removed]"
          },
          "metadata": {}
        },
        {
          "output_type": "display_data",
          "data": {
            "text/plain": [
              "<PIL.Image.Image image mode=RGB size=154x115>"
            ],
            "image/png": "[encoded data removed]"
          },
          "metadata": {}
        },
        {
          "output_type": "display_data",
          "data": {
            "text/plain": [
              "<PIL.Image.Image image mode=RGB size=154x115>"
            ],
            "image/png": "[encoded data removed]"
          },
          "metadata": {}
        },
        {
          "output_type": "display_data",
          "data": {
            "text/plain": [
              "<PIL.Image.Image image mode=RGB size=154x115>"
            ],
            "image/png": "[encoded data removed]"
          },
          "metadata": {}
        },
        {
          "output_type": "display_data",
          "data": {
            "text/plain": [
              "<PIL.Image.Image image mode=RGB size=154x115>"
            ],
            "image/png": "[encoded data removed]"
          },
          "metadata": {}
        },
        {
          "output_type": "display_data",
          "data": {
            "text/plain": [
              "<PIL.Image.Image image mode=RGB size=154x115>"
            ],
            "image/png": "[encoded data removed]"
          },
          "metadata": {}
        },
        {
          "output_type": "stream",
          "name": "stdout",
          "text": [
            "[0, 30, 60, 90, 120, 150, 180, 210, 240, 270, 300, 330]\n"
          ]
        }
      ]
    },
    {
      "cell_type": "markdown",
      "source": [
        "## Voxelify"
      ],
      "metadata": {
        "id": "DIPv8Qpk28g9"
      }
    },
    {
      "cell_type": "code",
      "source": [
        "driver(lego_image, lego_image_deg)"
      ],
      "metadata": {
        "colab": {
          "base_uri": "https://localhost:8080/"
        },
        "id": "sA8IxMLXwGAR",
        "outputId": "1ac73d55-84a4-499a-d9cc-f8d9278fa9e2"
      },
      "execution_count": 37,
      "outputs": [
        {
          "output_type": "stream",
          "name": "stdout",
          "text": [
            "Image line for  0 :  69 34 0 34\n",
            "Image line for  30 :  64 51 4 17\n",
            "Image line for  60 :  51 64 17 4\n",
            "Image line for  90 :  34 69 34 0\n",
            "Image line for  120 :  17 64 51 4\n",
            "Image line for  150 :  4 51 64 17\n",
            "Image line for  180 :  0 34 69 34\n",
            "Image line for  210 :  4 17 64 51\n",
            "Image line for  240 :  17 4 51 64\n",
            "Image line for  270 :  34 0 34 69\n",
            "Image line for  300 :  51 4 17 64\n",
            "Image line for  330 :  64 17 4 51\n"
          ]
        }
      ]
    },
    {
      "cell_type": "code",
      "source": [
        "voxels_500 = np.load('/content/points_500.npy')\n",
        "voxels_500.shape"
      ],
      "metadata": {
        "id": "KZl3pMQQhb-U",
        "colab": {
          "base_uri": "https://localhost:8080/"
        },
        "outputId": "2cf66555-eac5-4d0d-8c69-39beaaba13e9"
      },
      "execution_count": 38,
      "outputs": [
        {
          "output_type": "execute_result",
          "data": {
            "text/plain": [
              "(247572, 6)"
            ]
          },
          "metadata": {},
          "execution_count": 38
        }
      ]
    },
    {
      "cell_type": "markdown",
      "source": [
        "## Visualize Voxels\n",
        "\n",
        "If the visualization does not work right away, clear the output and then rerun it "
      ],
      "metadata": {
        "id": "UnXcKgIR2-45"
      }
    },
    {
      "cell_type": "code",
      "source": [
        "cloud = voxels_500[:,:3]\n",
        "colors = voxels_500[:,3:]\n",
        "transparent_voxels = voxels_500[np.all(voxels_500[:,3:] != [0, 0, 0], axis=-1)]\n",
        "valid_colors = np.asarray(lego_colors)\n",
        "cloud = transparent_voxels[:,:3]\n",
        "colors = transparent_voxels[:,3:]"
      ],
      "metadata": {
        "id": "PORi133KGKSh"
      },
      "execution_count": 43,
      "outputs": []
    },
    {
      "cell_type": "code",
      "source": [
        "o3_cloud = o3d.geometry.PointCloud()\n",
        "o3_cloud.points = o3d.utility.Vector3dVector(cloud)\n",
        "o3_cloud.colors = o3d.utility.Vector3dVector(colors.astype(float))\n",
        "\n",
        "pycloud = PyntCloud.from_instance(\"open3d\", o3_cloud)\n",
        "pycloud.plot(point_size=0.05, opacity=0.1)\n",
        "\n",
        "voxelgrid_id = pycloud.add_structure(\"voxelgrid\")\n",
        "voxelgrid = pycloud.structures[voxelgrid_id]"
      ],
      "metadata": {
        "id": "6d0bemYPsW8f",
        "colab": {
          "base_uri": "https://localhost:8080/",
          "height": 609,
          "referenced_widgets": [
            "8407e382b9e046bcb9a36eb7f0435df4",
            "1852d250aa944cd7899270b738d03946",
            "33c78cbcce1e48b7881ee7b5c62ad4c2",
            "86cde7e63d5c4d40bfcf5936c244ad45",
            "b22990a071f4443ab50e8fedda8e9244",
            "c61f3b5b4fdb41a987ae3a6bf101b4ed",
            "38f4618379524f298ec5a58ad5266ad1",
            "520cfdc71728469d93d72243c8d08383",
            "b7f80b563cdd4d78bf92a9a8f365baaf",
            "356407c103294db3a5cdbddcf75aaae9",
            "eedff90638bc43a6b1cc05ebe8d1f3a9",
            "9f650da172dd4110afc4ea4aa13fe01b",
            "50b490c087a145f489eb1c480c87868a",
            "c0289b739ce6484c94754fcd9f0a1528",
            "443cfede254c49069639e2102e2a8d40",
            "c143df3dfbff48d28b85807f7192b31f",
            "0be4e36c094a44b9a8b70e1762658f7c",
            "29e66f0263d9482b95bd7a52fb973ddb",
            "06749eead1b94e65a7edda60f34f8a57",
            "5e0e61d4e3684501aa03d707489ab382",
            "23ed04f6221b4c0fb70d9c7283967d21",
            "ef941cc3492c44f2b4889e1e65cca656",
            "24e70635744f42cdbec7b461f9eb939d",
            "c7ceac820a074cb98d778ef823e4d60e",
            "5666aacb86a14fec8ad1f793c6d40dac"
          ]
        },
        "outputId": "1ed74e1e-f428-4fdd-d8f0-8bd30a4dba3c"
      },
      "execution_count": 44,
      "outputs": [
        {
          "output_type": "stream",
          "name": "stderr",
          "text": [
            "/usr/local/lib/python3.7/dist-packages/pythreejs/traits.py:203: UserWarning: 64-bit data types not supported for WebGL data, casting to 32-bit.\n",
            "  warnings.warn('64-bit data types not supported for WebGL '\n"
          ]
        },
        {
          "output_type": "display_data",
          "data": {
            "text/plain": [
              "Renderer(camera=PerspectiveCamera(aspect=1.6, fov=90.0, position=(31.572239170225746, 84.55143380109823, 111.1…"
            ],
            "application/vnd.jupyter.widget-view+json": {
              "version_major": 2,
              "version_minor": 0,
              "model_id": "b22990a071f4443ab50e8fedda8e9244"
            }
          },
          "metadata": {
            "application/vnd.jupyter.widget-view+json": {
              "colab": {
                "custom_widget_manager": {
                  "url": "https://ssl.gstatic.com/colaboratory-static/widgets/colab-cdn-widget-manager/a8874ba6619b6106/manager.min.js"
                }
              }
            }
          }
        },
        {
          "output_type": "display_data",
          "data": {
            "text/plain": [
              "HBox(children=(Label(value='Point size:'), FloatSlider(value=5.1, max=51.0, step=0.051), Label(value='Backgrou…"
            ],
            "application/vnd.jupyter.widget-view+json": {
              "version_major": 2,
              "version_minor": 0,
              "model_id": "24e70635744f42cdbec7b461f9eb939d"
            }
          },
          "metadata": {
            "application/vnd.jupyter.widget-view+json": {
              "colab": {
                "custom_widget_manager": {
                  "url": "https://ssl.gstatic.com/colaboratory-static/widgets/colab-cdn-widget-manager/a8874ba6619b6106/manager.min.js"
                }
              }
            }
          }
        }
      ]
    }
  ]
}